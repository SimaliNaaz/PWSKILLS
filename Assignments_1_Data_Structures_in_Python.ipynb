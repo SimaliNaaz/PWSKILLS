{
  "nbformat": 4,
  "nbformat_minor": 0,
  "metadata": {
    "colab": {
      "provenance": [],
      "authorship_tag": "ABX9TyNmMDLAMBngTNwiGYCctq6K",
      "include_colab_link": true
    },
    "kernelspec": {
      "name": "python3",
      "display_name": "Python 3"
    },
    "language_info": {
      "name": "python"
    }
  },
  "cells": [
    {
      "cell_type": "markdown",
      "metadata": {
        "id": "view-in-github",
        "colab_type": "text"
      },
      "source": [
        "<a href=\"https://colab.research.google.com/github/SimaliNaaz/PWSKILLS/blob/main/Assignments_1_Data_Structures_in_Python.ipynb\" target=\"_parent\"><img src=\"https://colab.research.google.com/assets/colab-badge.svg\" alt=\"Open In Colab\"/></a>"
      ]
    },
    {
      "cell_type": "markdown",
      "source": [
        "1.Write a code to reverse a String."
      ],
      "metadata": {
        "id": "vgzn_Y-g7brm"
      }
    },
    {
      "cell_type": "code",
      "source": [
        "text=input(\"Enter a String:\")\n",
        "reverse=text[::-1]\n",
        "print(\"reverse string is:\",reverse)"
      ],
      "metadata": {
        "colab": {
          "base_uri": "https://localhost:8080/"
        },
        "id": "ZsC0JSUv7lHm",
        "outputId": "fab3bd54-02b9-4c79-d44b-8158e84a89fe"
      },
      "execution_count": null,
      "outputs": [
        {
          "output_type": "stream",
          "name": "stdout",
          "text": [
            "Enter a String:simali naaz\n",
            "reverse string is: zaan ilamis\n"
          ]
        }
      ]
    },
    {
      "cell_type": "markdown",
      "source": [
        "2.Write a code to count the number of vowels in a string."
      ],
      "metadata": {
        "id": "4prlvBxu9Vng"
      }
    },
    {
      "cell_type": "code",
      "source": [
        "text=input(\"Enter a String:\")\n",
        "text=str.lower(text)\n",
        "vowels='aeiou'\n",
        "vowelscount=0\n",
        "for char in text:\n",
        "  if char in vowels:\n",
        "    vowelscount=vowelscount+1\n",
        "print(\"no of vowels:\",vowelscount)\n"
      ],
      "metadata": {
        "colab": {
          "base_uri": "https://localhost:8080/"
        },
        "id": "iJU91rOa951l",
        "outputId": "7685afd3-eb9d-439f-c10c-88cb06063a1c"
      },
      "execution_count": null,
      "outputs": [
        {
          "output_type": "stream",
          "name": "stdout",
          "text": [
            "Enter a String:Simali\n",
            "no of vowels: 3\n"
          ]
        }
      ]
    },
    {
      "cell_type": "markdown",
      "source": [
        "3.Write a code to check if a given string is pallindrome or not."
      ],
      "metadata": {
        "id": "_7w9rSNFAIO_"
      }
    },
    {
      "cell_type": "code",
      "source": [
        "text=input('Enter a String:')\n",
        "text.replace(\" \",\"\").lower()\n",
        "reverse_string=text[::-1]\n",
        "if(text==reverse_string):\n",
        "  print(\"String is pallindrome\")\n",
        "else:\n",
        "  print(\"String is not a pallindrome\")"
      ],
      "metadata": {
        "colab": {
          "base_uri": "https://localhost:8080/"
        },
        "id": "LszGEoIuAPnl",
        "outputId": "293e0580-9032-4766-aef9-5c388d79b54b"
      },
      "execution_count": null,
      "outputs": [
        {
          "output_type": "stream",
          "name": "stdout",
          "text": [
            "Enter a String:madam\n",
            "String is pallindrome\n"
          ]
        }
      ]
    },
    {
      "cell_type": "markdown",
      "source": [
        "4.Write a code to check if two given strings are anagrams of each other."
      ],
      "metadata": {
        "id": "w7Ryfym5EPiD"
      }
    },
    {
      "cell_type": "code",
      "source": [
        "#Anagrams are the words or phrases formed by rearranging the letters of another word or phrases typically using all the original letters exactly once.Example listen is an anagram of silent.\n",
        "text1 = input(\"Enter the first word: \")\n",
        "text2 = input('Enter the second word: ')\n",
        "text1 = text1.lower()\n",
        "text2 = text2.lower()\n",
        "text1 = text1.replace(\" \", \"\")\n",
        "text2 = text2.replace(\" \", \"\")\n",
        "text1 = sorted(text1)\n",
        "text2 = sorted(text2)\n",
        "if len(text1) != len(text2):\n",
        "    print(\"Strings are not anagrams.\")\n",
        "else:\n",
        "    if (text1 == text2):\n",
        "        print(\"Strings are anagrams.\")\n",
        "    else:\n",
        "        print(\"Strings are not anagrams.\")\n"
      ],
      "metadata": {
        "colab": {
          "base_uri": "https://localhost:8080/"
        },
        "id": "fqTGlH1eFS3Z",
        "outputId": "a7c6b40e-2e2d-4a4f-85a0-97f541dd3e60"
      },
      "execution_count": null,
      "outputs": [
        {
          "output_type": "stream",
          "name": "stdout",
          "text": [
            "Enter the first word: listen\n",
            "Enter the second word: silent\n",
            "Strings are anagrams.\n"
          ]
        }
      ]
    },
    {
      "cell_type": "markdown",
      "source": [
        "5.Write a code to find all occurences of a given substring with another string."
      ],
      "metadata": {
        "id": "xiAwsKsSJhVg"
      }
    },
    {
      "cell_type": "code",
      "source": [
        "def find_occurrences(main_string, substring):\n",
        "    occurrences = []\n",
        "    start_index = 0\n",
        "    while True:\n",
        "        index = main_string.find(substring, start_index)\n",
        "        if index == -1:\n",
        "            break\n",
        "        occurrences.append(index)\n",
        "        start_index = index + 1\n",
        "    return occurrences\n",
        "\n",
        "# Example usage:\n",
        "main_string = \"hello world, hello universe\"\n",
        "substring = \"hello\"\n",
        "print(\"Occurrences:\", find_occurrences(main_string, substring))"
      ],
      "metadata": {
        "colab": {
          "base_uri": "https://localhost:8080/"
        },
        "id": "FwVK24S2JpCD",
        "outputId": "cfb1c991-3ca3-4cfc-b043-c03a518f60d9"
      },
      "execution_count": null,
      "outputs": [
        {
          "output_type": "stream",
          "name": "stdout",
          "text": [
            "Occurrences: [0, 13]\n"
          ]
        }
      ]
    },
    {
      "cell_type": "markdown",
      "source": [
        "6.Write a code to perform basic string compression using the counts of repeated characters."
      ],
      "metadata": {
        "id": "98FSPaPCVB6e"
      }
    },
    {
      "cell_type": "code",
      "source": [
        "s = input(\"Enter a string:\")\n",
        "s=sorted(s)\n",
        "emptylist = []\n",
        "count = 1\n",
        "if not s:\n",
        "    print(\"Compressed string:\", s)\n",
        "else:\n",
        "    for i in range(1, len(s)):\n",
        "        if s[i] == s[i - 1]:\n",
        "            count += 1\n",
        "        else:\n",
        "            emptylist.append(s[i - 1] + str(count))\n",
        "            count = 1\n",
        "    emptylist.append(s[-1] + str(count))\n",
        "    print(\"Compressed string:\", ''.join(emptylist))"
      ],
      "metadata": {
        "colab": {
          "base_uri": "https://localhost:8080/"
        },
        "id": "L3ppHOYjVC86",
        "outputId": "e9989d99-692c-4694-bae3-72e913307b65"
      },
      "execution_count": null,
      "outputs": [
        {
          "output_type": "stream",
          "name": "stdout",
          "text": [
            "Enter a string:simali\n",
            "Compressed string: a1i2l1m1s1\n"
          ]
        }
      ]
    },
    {
      "cell_type": "markdown",
      "source": [
        "7.Write a code to determine if a string has all unique characters."
      ],
      "metadata": {
        "id": "-fbauvmPa7BF"
      }
    },
    {
      "cell_type": "code",
      "source": [
        "def check_unique(string):\n",
        "  unique_characters=[]\n",
        "  for character in string:\n",
        "    if character in unique_characters:\n",
        "      return False\n",
        "    else:\n",
        "      unique_characters.append(character)\n",
        "      return True\n",
        "test='abcd'\n",
        "print(check_unique(test))\n"
      ],
      "metadata": {
        "colab": {
          "base_uri": "https://localhost:8080/"
        },
        "id": "dnaPnm_AhHGE",
        "outputId": "fc0abf7f-23c4-4b51-9653-deea0f47e926"
      },
      "execution_count": null,
      "outputs": [
        {
          "output_type": "stream",
          "name": "stdout",
          "text": [
            "True\n"
          ]
        }
      ]
    },
    {
      "cell_type": "markdown",
      "source": [
        "8.Write a code to convert a given string to uppercase or lowercase."
      ],
      "metadata": {
        "id": "U6Lrmev7mDRw"
      }
    },
    {
      "cell_type": "code",
      "source": [
        "s=input(\"Enter a String:\")\n",
        "enter=input(\"Enter U for uppercase or L for lowercase:\")\n",
        "if(enter=='U'):\n",
        "  print(s.upper())\n",
        "elif(enter=='L'):\n",
        "  print(s.lower())\n",
        "else:\n",
        "  print(\"invalid\")"
      ],
      "metadata": {
        "colab": {
          "base_uri": "https://localhost:8080/"
        },
        "id": "svOpSyU0mo87",
        "outputId": "99cfb2c4-4a00-4083-d1b0-38c41998c251"
      },
      "execution_count": null,
      "outputs": [
        {
          "output_type": "stream",
          "name": "stdout",
          "text": [
            "Enter a String:simali\n",
            "Enter U for uppercase or L for lowercase:U\n",
            "SIMALI\n"
          ]
        }
      ]
    },
    {
      "cell_type": "markdown",
      "source": [
        "9. Write a code to count the number of words in a string."
      ],
      "metadata": {
        "id": "KSgEgAMGmqHc"
      }
    },
    {
      "cell_type": "code",
      "source": [
        "text=input(\"enter a string:\")\n",
        "text=text.split()\n",
        "print(\"number of words:\",len(text))"
      ],
      "metadata": {
        "colab": {
          "base_uri": "https://localhost:8080/"
        },
        "id": "hDS2D4_Vpy4b",
        "outputId": "503ba9ad-9052-4156-f1c1-b19bc0ef20a9"
      },
      "execution_count": null,
      "outputs": [
        {
          "output_type": "stream",
          "name": "stdout",
          "text": [
            "enter a string:simali naaz\n",
            "number of words: 2\n"
          ]
        }
      ]
    },
    {
      "cell_type": "markdown",
      "source": [
        "10.Write a code to concatenate two strings without using the + operatore."
      ],
      "metadata": {
        "id": "xw3757Qzx8FC"
      }
    },
    {
      "cell_type": "code",
      "source": [
        "s1=input(\"Enter first word:\")\n",
        "s2=input(\"Enter second word:\")\n",
        "result=' '.join([s1,s2])\n",
        "print(result)"
      ],
      "metadata": {
        "colab": {
          "base_uri": "https://localhost:8080/"
        },
        "id": "kwfZlU9-yDgK",
        "outputId": "a50ce82d-84c3-4e53-93ee-23723f859467"
      },
      "execution_count": null,
      "outputs": [
        {
          "output_type": "stream",
          "name": "stdout",
          "text": [
            "Enter first word:simali\n",
            "Enter second word:naaz\n",
            "simali naaz\n"
          ]
        }
      ]
    },
    {
      "cell_type": "markdown",
      "source": [
        "11.Write a code to remove all occurences of a specific element from a list."
      ],
      "metadata": {
        "id": "F5pvG2Uxy7zr"
      }
    },
    {
      "cell_type": "code",
      "source": [
        "my_list=input(\"Enter a list of elements:\").split()\n",
        "element_to_remove=input(\"Enter the elements to remove:\")\n",
        "new_list=[]\n",
        "for item in my_list:\n",
        "  if item !=element_to_remove:\n",
        "    new_list.append(item)\n",
        "print(\"updates list\",element_to_remove,\":\",new_list)\n"
      ],
      "metadata": {
        "colab": {
          "base_uri": "https://localhost:8080/"
        },
        "id": "4v2q9jCiJZ8h",
        "outputId": "600a9a99-2df1-4a43-f368-5c65a76f12ef"
      },
      "execution_count": null,
      "outputs": [
        {
          "output_type": "stream",
          "name": "stdout",
          "text": [
            "Enter a list of elements:1 2 3 4 2\n",
            "Enter the elements to remove:2\n",
            "updates list 2 : ['1', '3', '4']\n"
          ]
        }
      ]
    },
    {
      "cell_type": "markdown",
      "source": [
        "12.Implement a code to find the second largest no in a given list of integers."
      ],
      "metadata": {
        "id": "I_PytjoPKIWz"
      }
    },
    {
      "cell_type": "code",
      "source": [
        "#approach1\n",
        "nums=input(\"Enter the numbers:\").split()\n",
        "nums.sort()\n",
        "print(nums[-2])"
      ],
      "metadata": {
        "colab": {
          "base_uri": "https://localhost:8080/"
        },
        "id": "xDLfFvNFKlpt",
        "outputId": "eef6fcb3-ce8f-4ec9-b3b4-bedc0f68ddd0"
      },
      "execution_count": null,
      "outputs": [
        {
          "output_type": "stream",
          "name": "stdout",
          "text": [
            "Enter the numbers:1 2 34 23 43\n",
            "34\n"
          ]
        }
      ]
    },
    {
      "cell_type": "code",
      "source": [
        "#approach2\n",
        "nums=input(\"Enter the number:\").split()\n",
        "largest=nums[0]\n",
        "sec_largest=nums[0]\n",
        "for i in range(len(nums)):\n",
        "  if nums[i]>largest:\n",
        "    largest=nums[i]\n",
        "for i in range(len(nums)):\n",
        "  if nums[i]>sec_largest and nums[i]!=largest:\n",
        "    sec_largest=nums[i]\n",
        "print(sec_largest)"
      ],
      "metadata": {
        "colab": {
          "base_uri": "https://localhost:8080/"
        },
        "id": "EqYHczUTQFg1",
        "outputId": "7e59fc96-a3ee-4d27-cc56-7a4bf0c84105"
      },
      "execution_count": null,
      "outputs": [
        {
          "output_type": "stream",
          "name": "stdout",
          "text": [
            "Enter the number:1 2 3 4 5\n",
            "4\n"
          ]
        }
      ]
    },
    {
      "cell_type": "markdown",
      "source": [
        "13.Create a code to count the occurences of each element in a list and return a dictionary with elements as keys and their counts as values.\n"
      ],
      "metadata": {
        "id": "OGJAaXbTUvEm"
      }
    },
    {
      "cell_type": "code",
      "source": [
        "text=input(\"Enter the elements:\").split()\n",
        "counts={}\n",
        "for item in text:\n",
        "  if item in counts:\n",
        "    counts[item]+=1\n",
        "  else:\n",
        "    counts[item]=1\n",
        "print(\"occurences of each element:\")\n",
        "for key,value in counts.items():\n",
        "  print(f\"{key}:{value}\")"
      ],
      "metadata": {
        "id": "uzNJ4m_MU72N",
        "colab": {
          "base_uri": "https://localhost:8080/"
        },
        "outputId": "d8d5a0c7-be47-4e95-c642-39237fb71703"
      },
      "execution_count": null,
      "outputs": [
        {
          "output_type": "stream",
          "name": "stdout",
          "text": [
            "Enter the elements:1 2 3 2 2 4 3 1\n",
            "occurences of each element:\n",
            "1:2\n",
            "2:3\n",
            "3:2\n",
            "4:1\n"
          ]
        }
      ]
    },
    {
      "cell_type": "markdown",
      "source": [
        "14.Write a code to reverse a list in-place without using any built-in reverse functions."
      ],
      "metadata": {
        "id": "K64sDwdOZn16"
      }
    },
    {
      "cell_type": "code",
      "source": [
        "input_list=[int(x) for x in input(\"Enter the elements:\").split()]\n",
        "n=len(input_list)\n",
        "for i in range(n//2):\n",
        "  input_list[i],input_list[n-i-1]= input_list[n-i-1],input_list[i]\n",
        "print(\"reverse list:\",input_list)"
      ],
      "metadata": {
        "colab": {
          "base_uri": "https://localhost:8080/"
        },
        "id": "ZqR215m9Zy6R",
        "outputId": "93057512-15e8-48fc-b200-5640a275c403"
      },
      "execution_count": null,
      "outputs": [
        {
          "output_type": "stream",
          "name": "stdout",
          "text": [
            "Enter the elements:1 2 3 4 23 3\n",
            "reverse list: [3, 23, 4, 3, 2, 1]\n"
          ]
        }
      ]
    },
    {
      "cell_type": "markdown",
      "source": [
        "15.Implement a code to find and remove duplicates from a list while preserving the original order of elements."
      ],
      "metadata": {
        "id": "hFs_77JSdYTO"
      }
    },
    {
      "cell_type": "code",
      "source": [
        "input_list=input(\"Enter the numbers:\").split()\n",
        "unique_list=[]\n",
        "seen=set()\n",
        "for item in input_list:\n",
        "  if item not in seen:\n",
        "    unique_list.append(item)\n",
        "    seen.add(item)\n",
        "print(\"List with duplicates while preserving order:\",unique_list)"
      ],
      "metadata": {
        "colab": {
          "base_uri": "https://localhost:8080/"
        },
        "id": "Ju_DEv_mf9EP",
        "outputId": "949ec963-1254-4dda-d8f1-2fa59b2362ea"
      },
      "execution_count": null,
      "outputs": [
        {
          "output_type": "stream",
          "name": "stdout",
          "text": [
            "Enter the numbers:1 2 3 4 2 3 4 5\n",
            "List with duplicates while preserving order: ['1', '2', '3', '4', '5']\n"
          ]
        }
      ]
    },
    {
      "cell_type": "markdown",
      "source": [
        "16.Create a code to check if a given list is sorted(either in ascending or descending) or not."
      ],
      "metadata": {
        "id": "MIqDJvvqomxL"
      }
    },
    {
      "cell_type": "code",
      "source": [
        "input_text=input(\"Enter a number:\").split()\n",
        "my_list=[int(x) for x in input_text]\n",
        "ascending=all(my_list[i]<=my_list[i+1] for i in range(len(my_list)-1))\n",
        "descending=all(my_list[i]>=my_list[i+1] for i in range(len(my_list)-1))\n",
        "is_sorted=ascending or descending\n",
        "print(\"Is this list sorted?\",is_sorted)\n"
      ],
      "metadata": {
        "colab": {
          "base_uri": "https://localhost:8080/"
        },
        "id": "2Khq6i5Gq6g6",
        "outputId": "70c27263-0d03-4a8e-f89b-4f4afd739cbf"
      },
      "execution_count": null,
      "outputs": [
        {
          "output_type": "stream",
          "name": "stdout",
          "text": [
            "Enter a number:5 4 3 2 1\n",
            "Is this list sorted? True\n"
          ]
        }
      ]
    },
    {
      "cell_type": "markdown",
      "source": [
        "17.Write a code to merge two sorted lists into a single sorted list."
      ],
      "metadata": {
        "id": "H9YFn5Jlwv0g"
      }
    },
    {
      "cell_type": "code",
      "source": [
        "#approch 1\n",
        "import heapq\n",
        "list1=input(\"Enter the elements of first sorted list:\").split()\n",
        "list2=input(\"Enter the elements of second sorted list:\").split()\n",
        "list1=[int(x) for x in list1]\n",
        "list2=[int(y) for y in list2]\n",
        "merge_list=list(heapq.merge(list1,list2))\n",
        "print(\"merge list\",merge_list)"
      ],
      "metadata": {
        "colab": {
          "base_uri": "https://localhost:8080/"
        },
        "id": "fiuKoyBVyxEN",
        "outputId": "fbeffea7-ec1c-4e7a-d5d0-2cd163414a21"
      },
      "execution_count": null,
      "outputs": [
        {
          "output_type": "stream",
          "name": "stdout",
          "text": [
            "Enter the elements of first sorted list:1 2 3\n",
            "Enter the elements of second sorted list:4 5 6\n",
            "merge list [1, 2, 3, 4, 5, 6]\n"
          ]
        }
      ]
    },
    {
      "cell_type": "code",
      "source": [
        "#approch2\n",
        "list1=input(\"Enter the elements of first sorted list:\").split()\n",
        "list2=input(\"Enter the elements of second sorted list:\").split()\n",
        "list1=[int(x) for x in list1]\n",
        "list2=[int(x) for x in list2]\n",
        "merged_list=[]\n",
        "i=0\n",
        "j=0\n",
        "while i<len(list1) and j<len(list2):\n",
        "  if(list1[i]<list2[j]):\n",
        "    merged_list.append(list1[i])\n",
        "    i+=1\n",
        "  else:\n",
        "    merged_list.append(list2[j])\n",
        "    j+=1\n",
        "while i<len(list1):\n",
        "  merged_list.append(list1[i])\n",
        "  i+=1\n",
        "while j<len(list2):\n",
        "  merged_list.append(list2[j])\n",
        "  j+=1\n",
        "print(\"merged list:\",merged_list)"
      ],
      "metadata": {
        "colab": {
          "base_uri": "https://localhost:8080/"
        },
        "id": "sAbT4Rdi9mYR",
        "outputId": "98cbb5e6-5c9f-4c25-c75d-fb1bf34934d6"
      },
      "execution_count": null,
      "outputs": [
        {
          "output_type": "stream",
          "name": "stdout",
          "text": [
            "Enter the elements of first sorted list:1 2 3\n",
            "Enter the elements of second sorted list:4 5 6\n",
            "merged list: [1, 2, 3, 4, 5, 6]\n"
          ]
        }
      ]
    },
    {
      "cell_type": "markdown",
      "source": [
        "18-Write a code to find the intersection of two given lists."
      ],
      "metadata": {
        "id": "-yFtSXRbDCLJ"
      }
    },
    {
      "cell_type": "code",
      "source": [
        "#approach1\n",
        "list1=input(\"Enter elements of the first element:\").split()\n",
        "list2=input(\"Enter elements of the second element:\").split()\n",
        "list1=[int(x) for x in list1]\n",
        "list2=[int(x) for x in list2]\n",
        "intersection=[]\n",
        "for value in list1:\n",
        "  if value in list2:\n",
        "    intersection.append(value)\n",
        "print(\"Intersection is\",intersection)\n"
      ],
      "metadata": {
        "colab": {
          "base_uri": "https://localhost:8080/"
        },
        "id": "X7vhhpCaqoM6",
        "outputId": "67a34038-5f5f-4b2a-ca03-4046bf3f2af2"
      },
      "execution_count": null,
      "outputs": [
        {
          "output_type": "stream",
          "name": "stdout",
          "text": [
            "Enter elements of the first element:1 2 3\n",
            "Enter elements of the second element:3 4 5\n",
            "Intersection is [3]\n"
          ]
        }
      ]
    },
    {
      "cell_type": "code",
      "source": [
        "#approach2\n",
        "list1=input(\"Enter elements of the first element:\").split()\n",
        "list2=input(\"Enter elements of the second element:\").split()\n",
        "list1=[int(x) for x in list1]\n",
        "list2=[int(x) for x in list2]\n",
        "intersection=[ value for value in list1 if value in list2 ]\n",
        "print(intersection)\n"
      ],
      "metadata": {
        "colab": {
          "base_uri": "https://localhost:8080/"
        },
        "id": "MmegBgfNtaS5",
        "outputId": "471c2d9a-0c25-4371-f41b-99229b96ce58"
      },
      "execution_count": null,
      "outputs": [
        {
          "output_type": "stream",
          "name": "stdout",
          "text": [
            "Enter elements of the first element:1 2 3\n",
            "Enter elements of the second element:3 2\n",
            "[2, 3]\n"
          ]
        }
      ]
    },
    {
      "cell_type": "markdown",
      "source": [
        "19-Create a code to find the union of two lists without duplicates."
      ],
      "metadata": {
        "id": "Eycmdx2tt08S"
      }
    },
    {
      "cell_type": "code",
      "source": [
        "#approach1\n",
        "text1 = set(input(\"Enter elements 1:\").split())\n",
        "text2 = set(input(\"Enter elements 2:\").split())\n",
        "union_set = set()\n",
        "for element in text1:\n",
        "  union_set.add(element)\n",
        "for element in text2:\n",
        "  union_set.add(element)\n",
        "print(\"union:\",union_set)\n",
        "\n"
      ],
      "metadata": {
        "colab": {
          "base_uri": "https://localhost:8080/"
        },
        "id": "muUbmp4kuFqd",
        "outputId": "17010525-c893-4fe4-b564-9065b463a5b4"
      },
      "execution_count": null,
      "outputs": [
        {
          "output_type": "stream",
          "name": "stdout",
          "text": [
            "Enter elements 1:1 2 3\n",
            "Enter elements 2:3 2 4\n",
            "union: {'2', '3', '4', '1'}\n"
          ]
        }
      ]
    },
    {
      "cell_type": "code",
      "source": [
        "#approach2\n",
        "text1 = set(input(\"Enter elements 1:\").split())\n",
        "text2 = set(input(\"Enter elements 2:\").split())\n",
        "union=text1.union(text2)\n",
        "print(union)"
      ],
      "metadata": {
        "colab": {
          "base_uri": "https://localhost:8080/"
        },
        "id": "mBuBTJHJwVfo",
        "outputId": "0e331eec-7755-4565-c23b-55afc8247753"
      },
      "execution_count": null,
      "outputs": [
        {
          "output_type": "stream",
          "name": "stdout",
          "text": [
            "Enter elements 1:1 2 3\n",
            "Enter elements 2:2 3\n",
            "{'2', '3', '1'}\n"
          ]
        }
      ]
    },
    {
      "cell_type": "markdown",
      "source": [
        "20.write a code to shuffle a given list randomly without using only built in shuffle functions."
      ],
      "metadata": {
        "id": "xmGxzmN5xN1z"
      }
    },
    {
      "cell_type": "code",
      "source": [
        "import random\n",
        "input_list = input(\"Enter elements of the list separated by spaces: \").split()\n",
        "input_list = [int(x) for x in input_list]\n",
        "for i in range(len(input_list)):\n",
        "    j = random.randint(0, len(input_list) - 1)\n",
        "    input_list[i], input_list[j] = input_list[j], input_list[i]\n",
        "print(\"Shuffled list:\", input_list)\n"
      ],
      "metadata": {
        "colab": {
          "base_uri": "https://localhost:8080/"
        },
        "id": "1_o-VkTSxOqB",
        "outputId": "e3f02f27-7d9a-4f50-c348-be0de497b304"
      },
      "execution_count": null,
      "outputs": [
        {
          "output_type": "stream",
          "name": "stdout",
          "text": [
            "Enter elements of the list separated by spaces: 1 2 3\n",
            "Shuffled list: [1, 3, 2]\n"
          ]
        }
      ]
    },
    {
      "cell_type": "markdown",
      "source": [
        "21.Write a code that takes two tuples as input and returns a new tuple containing elements that are common to both input values."
      ],
      "metadata": {
        "id": "A4numBfryztu"
      }
    },
    {
      "cell_type": "code",
      "source": [
        "#approach1\n",
        "tuple1=tuple(input(\"Enter elements of first tuple:\").split())\n",
        "tuple2=tuple(input(\"Enter elements of second tuple:\").split())\n",
        "common_elements=[]\n",
        "for element in tuple1:\n",
        "  if element in tuple2:\n",
        "    common_elements.append(element)\n",
        "common_tuple=tuple(common_elements)\n",
        "print(\"common elements\",common_tuple)\n"
      ],
      "metadata": {
        "colab": {
          "base_uri": "https://localhost:8080/"
        },
        "id": "JINwzAfY1kPC",
        "outputId": "df780877-9fbb-47ca-cb60-2d580a7cb11e"
      },
      "execution_count": null,
      "outputs": [
        {
          "output_type": "stream",
          "name": "stdout",
          "text": [
            "Enter elements of first tuple:1 2 3\n",
            "Enter elements of second tuple:2 3 4\n",
            "common elements ('2', '3')\n"
          ]
        }
      ]
    },
    {
      "cell_type": "code",
      "source": [
        "#approach2\n",
        "tuple1=tuple(input(\"Enter elements of first tuple:\").split())\n",
        "tuple2=tuple(input(\"Enter elements of second tuple:\").split())\n",
        "common_elements=tuple(set(tuple1) & set(tuple2))\n",
        "print(\"common_tuple\",common_elements)"
      ],
      "metadata": {
        "colab": {
          "base_uri": "https://localhost:8080/"
        },
        "id": "xjJUbMWz2v80",
        "outputId": "00e73062-cf09-48e0-c134-5992f73a3728"
      },
      "execution_count": null,
      "outputs": [
        {
          "output_type": "stream",
          "name": "stdout",
          "text": [
            "Enter elements of first tuple:1 2 3\n",
            "Enter elements of second tuple:2 3 4\n",
            "common_tuple ('2', '3')\n"
          ]
        }
      ]
    },
    {
      "cell_type": "markdown",
      "source": [
        "22.Create a code that prompts the user to enter two sets of integers separated by commas.Then, print the intersection of these two sets."
      ],
      "metadata": {
        "id": "yvSWHIPO3iTX"
      }
    },
    {
      "cell_type": "code",
      "source": [
        "set1_input=input(\"Enter elements of frist set:\")\n",
        "set1=set(map(int,set1_input.split(',')))\n",
        "set2_input=input(\"Enter elements of second set:\")\n",
        "set2=set(map(int,set2_input.split(',')))\n",
        "intersection=set1.intersection(set2)\n",
        "print(\"intersection of two sets\",intersection)"
      ],
      "metadata": {
        "colab": {
          "base_uri": "https://localhost:8080/"
        },
        "id": "LXGN5a4X4uL8",
        "outputId": "5883da67-078b-4a94-a558-1191b1e20927"
      },
      "execution_count": null,
      "outputs": [
        {
          "output_type": "stream",
          "name": "stdout",
          "text": [
            "Enter elements of frist set:1,2,3\n",
            "Enter elements of second set:2,3,4\n",
            "intersection of two sets {2, 3}\n"
          ]
        }
      ]
    },
    {
      "cell_type": "markdown",
      "source": [
        "23.Write a code to concatenate two tuples.The function should take two tuples as input and return a new tuple containing elements from both input values."
      ],
      "metadata": {
        "id": "i8aS1sPd8Dr7"
      }
    },
    {
      "cell_type": "code",
      "source": [
        "text1=tuple(input(\"Enter elements 1:\").split())\n",
        "text2=tuple(input(\"Enter elements 2:\").split())\n",
        "concatenated=text1+text2\n",
        "print(\"concatenated string:\",concatenated)"
      ],
      "metadata": {
        "colab": {
          "base_uri": "https://localhost:8080/"
        },
        "id": "hEruGKHl8sG8",
        "outputId": "ec2b97c5-249c-46c2-afdd-f4aad91538bf"
      },
      "execution_count": null,
      "outputs": [
        {
          "output_type": "stream",
          "name": "stdout",
          "text": [
            "Enter elements 1:1 2 3\n",
            "Enter elements 2:2 3 4\n",
            "concatenated string: ('1', '2', '3', '2', '3', '4')\n"
          ]
        }
      ]
    },
    {
      "cell_type": "markdown",
      "source": [
        "24.Develop a code that prompts the user to input two sets of strings.Then,print the elements that are present in the first set but not in the second set."
      ],
      "metadata": {
        "id": "qvpRLwcl9xei"
      }
    },
    {
      "cell_type": "code",
      "source": [
        "set1=set(input(\"Elements of first set:\").split())\n",
        "set2=set(input(\"Elements of second set:\").split())\n",
        "if not set1:\n",
        "  print(\"the first set is empty:\")\n",
        "elif not  set2:\n",
        "  print(\"the second set is empty:\")\n",
        "else:\n",
        "  elements=set1-set2\n",
        "  print(\"Elements\",elements)\n"
      ],
      "metadata": {
        "colab": {
          "base_uri": "https://localhost:8080/"
        },
        "id": "n2j2LXD9EwLj",
        "outputId": "d7550773-a673-42ce-dfd0-45a2f5b431b0"
      },
      "execution_count": null,
      "outputs": [
        {
          "output_type": "stream",
          "name": "stdout",
          "text": [
            "Elements of first set:1 2 3\n",
            "Elements of second set:2\n",
            "Elements {'3', '1'}\n"
          ]
        }
      ]
    },
    {
      "cell_type": "markdown",
      "source": [
        "25.Create a code that takes a tuple and two integers as input.The function should return a new tuple containing elements from the original tuple within the specified range of indices."
      ],
      "metadata": {
        "id": "Zqv9H0UBJIXj"
      }
    },
    {
      "cell_type": "code",
      "source": [
        "original_tuple=tuple(input(\"Enter element:\").split())\n",
        "start_index=int(input(\"start index:\"))\n",
        "end_index=int(input(\"end index:\"))\n",
        "sliced_tuple=original_tuple[start_index:end_index+1]\n",
        "print(\"sliced_tuple:\",sliced_tuple)"
      ],
      "metadata": {
        "colab": {
          "base_uri": "https://localhost:8080/"
        },
        "id": "9K40qoPXJbqq",
        "outputId": "75634589-9054-472a-fb43-543efe47224a"
      },
      "execution_count": null,
      "outputs": [
        {
          "output_type": "stream",
          "name": "stdout",
          "text": [
            "Enter element:1 2 3\n",
            "start index:1\n",
            "end index:4\n",
            "sliced_tuple: ('2', '3')\n"
          ]
        }
      ]
    },
    {
      "cell_type": "markdown",
      "source": [
        "26.Write a code that prompts the user to input two sets of characters.Then,print the union of these two sets."
      ],
      "metadata": {
        "id": "BWVDcW5tLpuO"
      }
    },
    {
      "cell_type": "code",
      "source": [
        "set1=set(input(\"Enter the first set of characters:\"))\n",
        "set2=set(input(\"Enter the second set of characters:\"))\n",
        "union_set=set()\n",
        "for char in set1:\n",
        "  union_set.add(char)\n",
        "for char in set2:\n",
        "  union_set.add(char)\n",
        "print('union of two sets:',(union_set))"
      ],
      "metadata": {
        "colab": {
          "base_uri": "https://localhost:8080/"
        },
        "id": "qLLo_ien0cEp",
        "outputId": "b5ea9219-b3dd-4142-a35b-efc484b48927"
      },
      "execution_count": 2,
      "outputs": [
        {
          "output_type": "stream",
          "name": "stdout",
          "text": [
            "Enter the first set of characters:abc\n",
            "Enter the second set of characters:def\n",
            "union of two sets: ['a', 'b', 'c', 'd', 'e', 'f']\n"
          ]
        }
      ]
    },
    {
      "cell_type": "markdown",
      "source": [
        "27.Develop a code that takes a tuple of integers as input.The function should return the maximum and minimum values from the tuple using tuple unpacking."
      ],
      "metadata": {
        "id": "OUtUteer1Rt7"
      }
    },
    {
      "cell_type": "code",
      "source": [
        "input_str=input(\"Enter tuple nos:\")\n",
        "input_tuple=tuple(map(int,input_str.split(',')))\n",
        "*rest,last=input_tuple\n",
        "maximum=minimum=last\n",
        "for num in rest:\n",
        "  if num>maximum:\n",
        "    maximum=num\n",
        "  elif num<minimum:\n",
        "    minimum=num\n",
        "print(\"Minimum valueL:\",maximum)\n",
        "print(\"Maximum value:\",minimum)\n"
      ],
      "metadata": {
        "colab": {
          "base_uri": "https://localhost:8080/"
        },
        "id": "95hvla7i3Npv",
        "outputId": "d6735dec-9ed2-4a2e-95dc-ceb834fddc0a"
      },
      "execution_count": 6,
      "outputs": [
        {
          "output_type": "stream",
          "name": "stdout",
          "text": [
            "Enter tuple nos:1,2,3,4,2\n",
            "Minimum valueL: 4\n",
            "Maximum value: 1\n"
          ]
        }
      ]
    },
    {
      "cell_type": "markdown",
      "source": [
        "28.Create a code that defines two sets of integers.Then,print the Union,Intersection,and difference of these two sets."
      ],
      "metadata": {
        "id": "LQ_OTPeZ1TZ-"
      }
    },
    {
      "cell_type": "code",
      "source": [
        "#approach1\n",
        "set1_input=input(\"Enter first set of integers:\")\n",
        "set1=set(map(int,set1_input.split()))\n",
        "set2_input=input(\"Enter second set of integers:\")\n",
        "set2=set(map(int,set2_input.split()))\n",
        "print(\"Union:\",set1.union(set2))\n",
        "print(\"Intersection:\",set1.intersection(set2))\n",
        "print(\"Difference(set1-set2):\",set1.difference(set2))\n",
        "print(\"Difference(set2-set1):\",set2.difference(set1))\n"
      ],
      "metadata": {
        "colab": {
          "base_uri": "https://localhost:8080/"
        },
        "id": "hP0bC_9p1iIc",
        "outputId": "a5bc38af-6cd6-4671-8cb0-6170100a1e98"
      },
      "execution_count": 1,
      "outputs": [
        {
          "output_type": "stream",
          "name": "stdout",
          "text": [
            "Enter first set of integers1 2 3 4\n",
            "Enter second set of integers5 3 2 1\n",
            "Union: {1, 2, 3, 4, 5}\n",
            "Intersection: {1, 2, 3}\n",
            "Difference(set1-set2): {4}\n",
            "Difference(set2-set1): {5}\n"
          ]
        }
      ]
    },
    {
      "cell_type": "code",
      "source": [
        "#approach2\n",
        "set1_input=input(\"Enter first set of integers:\")\n",
        "set1_list=list(map(int,set1_input.split()))\n",
        "set2_input=input(\"Enter second set of integers:\")\n",
        "set2_list=list(map(int,set2_input.split()))\n",
        "set1=set(set1_list)\n",
        "set2=set(set2_list)\n",
        "union_set=set1.copy()\n",
        "for num in set2:\n",
        "  if num not in union_set:\n",
        "    union_set.add(num)\n",
        "intersection_set=set()\n",
        "for num in set1:\n",
        "  if num in set2:\n",
        "    intersection_set.add(num)\n",
        "difference_set1=set()\n",
        "for num in set1:\n",
        "  if num not in difference_set2:\n",
        "    difference_set1.add(num)\n",
        "difference_set2=set()\n",
        "for num in set2:\n",
        "  if num not in set1:\n",
        "    difference_set2.add(num)\n",
        "print(\"union\",union_set)\n",
        "print(\"intersection\",intersection_set)\n",
        "print(\"difference(set1-set2)\",difference_set1)\n",
        "print(\"difference(set2-set1)\",difference_set2)\n",
        "\n"
      ],
      "metadata": {
        "colab": {
          "base_uri": "https://localhost:8080/"
        },
        "id": "5zAYAv-X2oaQ",
        "outputId": "d67ea463-2434-4ed0-d570-6aa6e4b0462f"
      },
      "execution_count": 4,
      "outputs": [
        {
          "output_type": "stream",
          "name": "stdout",
          "text": [
            "Enter first set of integers:1 2 3 4\n",
            "Enter second set of integers:5 3 2 1\n",
            "union {1, 2, 3, 4, 5}\n",
            "intersection {1, 2, 3}\n",
            "difference(set1-set2) {1, 2, 3, 4}\n",
            "difference(set2-set1) {5}\n"
          ]
        }
      ]
    },
    {
      "cell_type": "markdown",
      "source": [
        "29.write a code that takes a tuple and an element as function.The function should return the count of occurences of the given element in the tuple."
      ],
      "metadata": {
        "id": "WX1UsXjL6wbG"
      }
    },
    {
      "cell_type": "code",
      "source": [
        "input_tuple=eval(input(\"Enter a tuple\"))\n",
        "element=eval(input(\"Enter an element\"))\n",
        "count=0\n",
        "for item in input_tuple:\n",
        "  if item==element:\n",
        "    count+=1\n",
        "print(\"count of occurences of \",element,\"in the tuple:\",count)"
      ],
      "metadata": {
        "colab": {
          "base_uri": "https://localhost:8080/"
        },
        "id": "xBWg1yVx752m",
        "outputId": "9bcdd4d1-4f3d-44a0-8661-0a4bc3d01c68"
      },
      "execution_count": 5,
      "outputs": [
        {
          "output_type": "stream",
          "name": "stdout",
          "text": [
            "Enter a tuple(1,2,2,3)\n",
            "Enter an element2\n",
            "count of occurences of  2 in the tuple: 2\n"
          ]
        }
      ]
    },
    {
      "cell_type": "markdown",
      "source": [
        "30.Develop a code that prompts the user to input two sets of Strings.Then,print the symmetric difference of these two sets."
      ],
      "metadata": {
        "id": "SlBsXt_EK157"
      }
    },
    {
      "cell_type": "code",
      "source": [
        "\"\"\"Symmetric difference consists of all the elements they are in A or B,but not in both.\"\"\"\n",
        "#approach1\n",
        "set1_input=input('Enter first set of strings:')\n",
        "set1=set(set1_input.split())\n",
        "set2_input=input('Enter second set of strings:')\n",
        "set2=set(set2_input.split())\n",
        "Symmetric_difference=set1.symmetric_difference(set2)\n",
        "print('Symmetric difference',Symmetric_difference)"
      ],
      "metadata": {
        "colab": {
          "base_uri": "https://localhost:8080/"
        },
        "id": "ixMP5zAALGFP",
        "outputId": "23b0da75-8046-4343-cf93-7d9a0eeee2a6"
      },
      "execution_count": 6,
      "outputs": [
        {
          "output_type": "stream",
          "name": "stdout",
          "text": [
            "Enter first set of strings:apple banana\n",
            "Enter second set of strings:banana orange\n",
            "Symmetric difference {'apple', 'orange'}\n"
          ]
        }
      ]
    },
    {
      "cell_type": "code",
      "source": [
        "#approach2\n",
        "set1_input=input(\"Enter first strings:\")\n",
        "set1=set(set1_input.split())\n",
        "set2_input=input('Enter second stringsL:')\n",
        "set2=set(set2_input.split())\n",
        "Symmetric_difference=set()\n",
        "for element in set1:\n",
        "  if element not in set2:\n",
        "    Symmetric_difference.add(element)\n",
        "for element in set2:\n",
        "  if element not in set1:\n",
        "    Symmetric_difference.add(element)\n",
        "print(\"Symmetric_difference\",Symmetric_difference)\n"
      ],
      "metadata": {
        "colab": {
          "base_uri": "https://localhost:8080/"
        },
        "id": "gPXCsfvbONbx",
        "outputId": "427133b1-96e3-4f37-a205-43ea05890250"
      },
      "execution_count": 7,
      "outputs": [
        {
          "output_type": "stream",
          "name": "stdout",
          "text": [
            "Enter first strings:apple banana\n",
            "Enter second stringsL:banana ornage\n",
            "Symmetric_difference {'apple', 'ornage'}\n"
          ]
        }
      ]
    },
    {
      "cell_type": "markdown",
      "source": [
        "31.Write a code that takes a list of words as input and returns a dictionary where the keys are unique words and the values are the frequencies of those words in the input list."
      ],
      "metadata": {
        "id": "mWdBEO8CTHKK"
      }
    },
    {
      "cell_type": "code",
      "source": [
        "word_list=input(\"Enter a list of words:\").split()\n",
        "frequency_dict={}\n",
        "for word in word_list:\n",
        "  if word in frequency_dict:\n",
        "    frequency_dict[word]+=1\n",
        "  else:\n",
        "    frequency_dict[word]=1\n",
        "print(\"word frequency dictionary:\")\n",
        "for word,frequency in frequency_dict.items():\n",
        "  print(word,\":\",frequency)"
      ],
      "metadata": {
        "colab": {
          "base_uri": "https://localhost:8080/"
        },
        "id": "BY9iFzFTTwTI",
        "outputId": "a3efae0e-e825-4db6-cf97-549fef960879"
      },
      "execution_count": 10,
      "outputs": [
        {
          "output_type": "stream",
          "name": "stdout",
          "text": [
            "Enter a list of words:simali naaz simali\n",
            "word frequency dictionary:\n",
            "simali ; 2\n",
            "naaz ; 1\n"
          ]
        }
      ]
    },
    {
      "cell_type": "markdown",
      "source": [
        "32.write a code that takes two dictionaries as input and merges them into a single dictionary.If there are common keys,value should be added together.\n"
      ],
      "metadata": {
        "id": "_Hw5H-8_Xot-"
      }
    },
    {
      "cell_type": "code",
      "source": [
        "dict1_input = input(\"Enter the first dictionary (key-value pairs separated by comma): \")\n",
        "dict1_items = dict1_input.split(',')\n",
        "dict1 = {}\n",
        "for item in dict1_items:\n",
        "    key, value = item.split(':')\n",
        "    dict1[key.strip()] = int(value.strip())\n",
        "dict2_input = input(\"Enter the second dictionary (key-value pairs separated by comma): \")\n",
        "dict2_items = dict2_input.split(',')\n",
        "dict2 = {}\n",
        "for item in dict2_items:\n",
        "    key, value = item.split(':')\n",
        "    dict2[key.strip()] = int(value.strip())\n",
        "merged_dict = {}\n",
        "for key, value in dict1.items():\n",
        "    if key in merged_dict:\n",
        "        merged_dict[key] += value\n",
        "    else:\n",
        "        merged_dict[key] = value\n",
        "for key, value in dict2.items():\n",
        "    if key in merged_dict:\n",
        "        merged_dict[key] += value\n",
        "    else:\n",
        "        merged_dict[key] = value\n",
        "print(\"Merged dictionary:\", merged_dict)"
      ],
      "metadata": {
        "colab": {
          "base_uri": "https://localhost:8080/"
        },
        "id": "GThtHswabYAC",
        "outputId": "0751446f-0cf2-4cdb-e2c5-0aa0b12451c6"
      },
      "execution_count": 11,
      "outputs": [
        {
          "output_type": "stream",
          "name": "stdout",
          "text": [
            "Enter the first dictionary (key-value pairs separated by comma): a:20,b:2\n",
            "Enter the second dictionary (key-value pairs separated by comma): a:3,c:23\n",
            "Merged dictionary: {'a': 23, 'b': 2, 'c': 23}\n"
          ]
        }
      ]
    },
    {
      "cell_type": "markdown",
      "source": [
        "33.Write a code to access a value in a nested dictionary.The function should take the dictionary and a list of keys as input,and return the corresponding value.If any of the keys do not exist in the dictionary,the function should return None.\n",
        "\n"
      ],
      "metadata": {
        "id": "RNZ-XdKFcJ7w"
      }
    },
    {
      "cell_type": "code",
      "source": [
        "nested_dict = {\n",
        "    'a': {\n",
        "        'b': {\n",
        "            'c': 10\n",
        "        }\n",
        "    }\n",
        "}\n",
        "keys = ['a', 'b', 'c']\n",
        "result = nested_dict\n",
        "for key in keys:\n",
        "    if key in result:\n",
        "        result = result[key]\n",
        "    else:\n",
        "        result = None\n",
        "        break\n",
        "print(\"Value:\", result)"
      ],
      "metadata": {
        "colab": {
          "base_uri": "https://localhost:8080/"
        },
        "id": "czvBRBhSfnRb",
        "outputId": "e1280b24-7f7c-46fc-e5a3-d11e63bdc26d"
      },
      "execution_count": 12,
      "outputs": [
        {
          "output_type": "stream",
          "name": "stdout",
          "text": [
            "Value: 10\n"
          ]
        }
      ]
    },
    {
      "cell_type": "markdown",
      "source": [
        "34.write a code that takes a dictionary as input and returns a sorted version of it based on the values.you can choose whether to sort in ascending or descending order."
      ],
      "metadata": {
        "id": "4wK4efx-z-_H"
      }
    },
    {
      "cell_type": "code",
      "source": [
        "\n",
        "input_dict = {'b': 3, 'a': 1, 'c': 2}\n",
        "sorted_items = sorted(input_dict.items(), key=lambda item: item[1], reverse=True)\n",
        "sorted_dict = {}\n",
        "for key, value in sorted_items:\n",
        "    sorted_dict[key] = value\n",
        "print(\"Sorted dictionary (descending order):\", sorted_dict)\n"
      ],
      "metadata": {
        "colab": {
          "base_uri": "https://localhost:8080/"
        },
        "id": "JHua3Wn9g5bX",
        "outputId": "67de5046-55c1-4df3-fb84-044a7b204e50"
      },
      "execution_count": 13,
      "outputs": [
        {
          "output_type": "stream",
          "name": "stdout",
          "text": [
            "Sorted dictionary (descending order): {'b': 3, 'c': 2, 'a': 1}\n"
          ]
        }
      ]
    },
    {
      "cell_type": "markdown",
      "source": [
        "35.write a code that inverts a dictionary,swapping keys and values.Ensure that the inverted dictionary correctly handles cases where multiple keys have the same value by storing the keys as a list in the inverted dictionary.\n"
      ],
      "metadata": {
        "id": "62GKI0pHhzU9"
      }
    },
    {
      "cell_type": "code",
      "source": [
        "\n",
        "input_dict = {'b': 3, 'a': 1, 'c': 2}\n",
        "sorted_keys = []\n",
        "sorted_dict = {}\n",
        "for key, value in input_dict.items():\n",
        "    index = 0\n",
        "    while index < len(sorted_keys) and input_dict[sorted_keys[index]] > value:\n",
        "        index += 1\n",
        "    sorted_keys.insert(index, key)\n",
        "for key in sorted_keys:\n",
        "    sorted_dict[key] = input_dict[key]\n",
        "print(\"Sorted dictionary (descending order):\", sorted_dict)\n",
        "\n"
      ],
      "metadata": {
        "colab": {
          "base_uri": "https://localhost:8080/"
        },
        "id": "GDSZU7vYiqVm",
        "outputId": "8f39b692-ec82-4643-8483-4e272f448f7c"
      },
      "execution_count": 16,
      "outputs": [
        {
          "output_type": "stream",
          "name": "stdout",
          "text": [
            "Sorted dictionary (descending order): {'b': 3, 'c': 2, 'a': 1}\n"
          ]
        }
      ]
    }
  ]
}