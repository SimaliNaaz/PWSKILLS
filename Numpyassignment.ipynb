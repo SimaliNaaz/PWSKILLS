{
  "nbformat": 4,
  "nbformat_minor": 0,
  "metadata": {
    "colab": {
      "provenance": [],
      "authorship_tag": "ABX9TyNAfnatIQDs1IF+maGNs19C",
      "include_colab_link": true
    },
    "kernelspec": {
      "name": "python3",
      "display_name": "Python 3"
    },
    "language_info": {
      "name": "python"
    }
  },
  "cells": [
    {
      "cell_type": "markdown",
      "metadata": {
        "id": "view-in-github",
        "colab_type": "text"
      },
      "source": [
        "<a href=\"https://colab.research.google.com/github/SimaliNaaz/PWSKILLS/blob/main/Numpyassignment.ipynb\" target=\"_parent\"><img src=\"https://colab.research.google.com/assets/colab-badge.svg\" alt=\"Open In Colab\"/></a>"
      ]
    },
    {
      "cell_type": "markdown",
      "source": [
        "1.Create a NumPy array 'arr' of integers from 0 to 5 and print its data type.\n"
      ],
      "metadata": {
        "id": "yJHg-0jDa4li"
      }
    },
    {
      "cell_type": "code",
      "source": [
        "import numpy as np\n",
        "arr=np.arange(6)\n",
        "print(\"Array:\",arr)\n",
        "print(\"Data Type:\",arr.dtype)"
      ],
      "metadata": {
        "colab": {
          "base_uri": "https://localhost:8080/"
        },
        "id": "8MzOnQi-a5rL",
        "outputId": "12aeeeb4-0c32-4f63-988d-943f2c9a82d2"
      },
      "execution_count": null,
      "outputs": [
        {
          "output_type": "stream",
          "name": "stdout",
          "text": [
            "Array: [0 1 2 3 4 5]\n",
            "Data Type: int64\n"
          ]
        }
      ]
    },
    {
      "cell_type": "markdown",
      "source": [
        "2.Given a NumPy array 'arr', check if its data type is float64.\n",
        "arr = np.array([1.5, 2.6, 3.7])"
      ],
      "metadata": {
        "id": "vx5LTuQRb6e7"
      }
    },
    {
      "cell_type": "code",
      "source": [
        "import numpy as np\n",
        "arr=np.array([1.5,2.6,3.7])\n",
        "isfloat=arr.dtype==np.float64\n",
        "print(\"Is the datatype is float or not?\",isfloat)"
      ],
      "metadata": {
        "colab": {
          "base_uri": "https://localhost:8080/"
        },
        "id": "EFcZY5dXb_MK",
        "outputId": "63a242f7-c97c-46c3-9792-88caabbda0fe"
      },
      "execution_count": null,
      "outputs": [
        {
          "output_type": "stream",
          "name": "stdout",
          "text": [
            "Is the datatype is float or not? True\n"
          ]
        }
      ]
    },
    {
      "cell_type": "markdown",
      "source": [
        "3. Create a NumPy array 'arr' with a data type of complex128 containing three complex numbers"
      ],
      "metadata": {
        "id": "VXYN7LE_dtpt"
      }
    },
    {
      "cell_type": "code",
      "source": [
        "import numpy as np\n",
        "arr=np.array([1+2j,3+4j,5+6j],dtype=np.complex128)\n",
        "print(\"Array:\",arr)\n",
        "print(\"Datatype:\",arr.dtype)"
      ],
      "metadata": {
        "colab": {
          "base_uri": "https://localhost:8080/"
        },
        "id": "fkHd5qaedwm-",
        "outputId": "ae25a35f-68f5-471e-eb1c-eb6fb08f461a"
      },
      "execution_count": null,
      "outputs": [
        {
          "output_type": "stream",
          "name": "stdout",
          "text": [
            "Array: [1.+2.j 3.+4.j 5.+6.j]\n",
            "Datatype: complex128\n"
          ]
        }
      ]
    },
    {
      "cell_type": "markdown",
      "source": [
        "4. Convert an existing NumPy array 'arr' of integers to float32 data type."
      ],
      "metadata": {
        "id": "ER3FMYr8eigf"
      }
    },
    {
      "cell_type": "code",
      "source": [
        "import numpy as np\n",
        "arr=np.array([1,2,3,4,5])\n",
        "arrtofloat=np.asarray(arr,dtype=np.float32)\n",
        "print(\"original array:\",arr)\n",
        "print(\"converted array:\",arrtofloat)\n",
        "print(arrtofloat.dtype)"
      ],
      "metadata": {
        "colab": {
          "base_uri": "https://localhost:8080/"
        },
        "id": "aqqstf-zel_M",
        "outputId": "f78a4df9-ed2a-478a-f098-4a57ec3f8084"
      },
      "execution_count": null,
      "outputs": [
        {
          "output_type": "stream",
          "name": "stdout",
          "text": [
            "original array: [1 2 3 4 5]\n",
            "converted array: [1. 2. 3. 4. 5.]\n",
            "float32\n"
          ]
        }
      ]
    },
    {
      "cell_type": "markdown",
      "source": [
        "5.Given a NumPy array 'arr' with float64 data type, convert it to float32 to reduce decimal precision."
      ],
      "metadata": {
        "id": "1r1VRZ22g3O5"
      }
    },
    {
      "cell_type": "code",
      "source": [
        "import numpy as np\n",
        "arr=np.array([1.2345678,2.3456890,3.45678901])\n",
        "convertedarray=np.asarray(arr,dtype=np.float32)\n",
        "print('original array:',arr)\n",
        "print(arr.dtype)\n",
        "print('converted array',convertedarray)\n",
        "print(convertedarray.dtype)"
      ],
      "metadata": {
        "colab": {
          "base_uri": "https://localhost:8080/"
        },
        "id": "T4wtn9vjhCTe",
        "outputId": "bab6a002-9b34-419c-a594-14c72f5e8673"
      },
      "execution_count": null,
      "outputs": [
        {
          "output_type": "stream",
          "name": "stdout",
          "text": [
            "original array: [1.2345678  2.345689   3.45678901]\n",
            "float64\n",
            "converted array [1.2345678 2.345689  3.456789 ]\n",
            "float32\n"
          ]
        }
      ]
    },
    {
      "cell_type": "markdown",
      "source": [
        "6.Write a function array_attributes that takes a NumPy array as input and returns its shape, size, and data\n",
        "type."
      ],
      "metadata": {
        "id": "tQfjdXPclO7b"
      }
    },
    {
      "cell_type": "code",
      "source": [
        "import numpy as np\n",
        "elements=input(\"Enter elements seperated with spaces:\")\n",
        "elements_list=[float(x) for x in elements.split() ]\n",
        "arr=np.array(elements_list)\n",
        "shape=arr.shape\n",
        "size=arr.size\n",
        "datatype=arr.dtype\n",
        "print(\"shape:\",shape)\n",
        "print(\"size:\",size)\n",
        "print(\"Datatype:\",datatype)"
      ],
      "metadata": {
        "colab": {
          "base_uri": "https://localhost:8080/"
        },
        "id": "HalCrWmrlSu2",
        "outputId": "3f232fa8-4690-4e3c-8bd7-0d236f798788"
      },
      "execution_count": null,
      "outputs": [
        {
          "output_type": "stream",
          "name": "stdout",
          "text": [
            "Enter elements seperated with spaces:1 2 3 4 5\n",
            "shape: (5,)\n",
            "size: 5\n",
            "Datatype: float64\n"
          ]
        }
      ]
    },
    {
      "cell_type": "markdown",
      "source": [
        "7.. Create a function array_dimension that takes a NumPy array as input and returns its dimensionality"
      ],
      "metadata": {
        "id": "_RdLVW4qvc1N"
      }
    },
    {
      "cell_type": "code",
      "source": [
        "import numpy as np\n",
        "def array_dimension(arr):\n",
        "    dimension = arr.ndim\n",
        "    return dimension\n",
        "arr=np.random.randint(1,4,(3,3))\n",
        "print(arr)\n",
        "print(array_dimension(arr))"
      ],
      "metadata": {
        "colab": {
          "base_uri": "https://localhost:8080/"
        },
        "id": "oMTOQqLFvjIx",
        "outputId": "92755bf2-1ba6-4b27-b854-8d43138e1f77"
      },
      "execution_count": 25,
      "outputs": [
        {
          "output_type": "stream",
          "name": "stdout",
          "text": [
            "[[2 1 2]\n",
            " [3 3 3]\n",
            " [3 3 1]]\n",
            "2\n"
          ]
        }
      ]
    },
    {
      "cell_type": "markdown",
      "source": [
        "8. Design a function item_size_info that takes a NumPy array as input and returns the item size and the total\n",
        "size in bytes."
      ],
      "metadata": {
        "id": "b-lTTYwsxSkl"
      }
    },
    {
      "cell_type": "code",
      "source": [
        "import numpy as np\n",
        "def item_size_info():\n",
        "  elements=input(\"Enter elements seperated by spaces:\")\n",
        "  elements_list=[float(x) for x in elements.split()]\n",
        "  arr=np.array(elements_list)\n",
        "  itemsizebytes=arr.itemsize\n",
        "  totalsizebytes=arr.nbytes\n",
        "  return itemsizebytes,totalsizebytes\n",
        "itemsizebytes,totalsizebytes=item_size_info()\n",
        "print(\"Item size byte\",itemsizebytes)\n",
        "print(\"Total size byte\",totalsizebytes)"
      ],
      "metadata": {
        "colab": {
          "base_uri": "https://localhost:8080/"
        },
        "id": "IrS41jpXxZ14",
        "outputId": "3a58cfe5-62e2-4500-f51b-fdea2839f39f"
      },
      "execution_count": null,
      "outputs": [
        {
          "output_type": "stream",
          "name": "stdout",
          "text": [
            "Enter elements seperated by spaces:1 2 3 4 5\n",
            "Item size byte 8\n",
            "Total size byte 40\n"
          ]
        }
      ]
    },
    {
      "cell_type": "markdown",
      "source": [
        "9. Create a function array_strides that takes a NumPy array as input and returns the strides of the array."
      ],
      "metadata": {
        "id": "BdUo3DOp0sC0"
      }
    },
    {
      "cell_type": "code",
      "source": [
        "import numpy as np\n",
        "def array_strides(arr):\n",
        "   return arr.strides\n",
        "def inputarray():\n",
        "    rows = int(input(\"Enter the number of rows: \"))\n",
        "    cols = int(input(\"Enter the number of columns: \"))\n",
        "    print(\"Enter elements of the array row-wise:\")\n",
        "    elements = []\n",
        "    for i in range(rows):\n",
        "        row_elements = input().split()\n",
        "        elements.append(row_elements)\n",
        "    return np.array(elements, dtype=float)\n",
        "user_arr = inputarray()\n",
        "strides = array_strides(user_arr)\n",
        "print(\"Strides of the array:\", strides)\n",
        "#a \"stride\" refers to the number of bytes to step in each dimension when traversing the array.\n",
        " #Strides are used to describe the memory layout of the array and how elements are stored in memory."
      ],
      "metadata": {
        "colab": {
          "base_uri": "https://localhost:8080/"
        },
        "id": "F7IOR_y50zJJ",
        "outputId": "65cadee0-9117-472f-b419-866516253d66"
      },
      "execution_count": null,
      "outputs": [
        {
          "output_type": "stream",
          "name": "stdout",
          "text": [
            "Enter the number of rows: 3\n",
            "Enter the number of columns: 3\n",
            "Enter elements of the array row-wise:\n",
            "1 2 3\n",
            "4 5 6\n",
            "7 8 9\n",
            "Strides of the array: (24, 8)\n"
          ]
        }
      ]
    },
    {
      "cell_type": "markdown",
      "source": [
        "10. Design a function shape_stride_relationship that takes a NumPy array as input and returns the shape\n",
        "and strides of the array."
      ],
      "metadata": {
        "id": "PauKTG0mHDXO"
      }
    },
    {
      "cell_type": "code",
      "source": [
        "import numpy as np\n",
        "def shape_stride_relationship():\n",
        "  rows=int(input(\"Enter the number of rows:\"))\n",
        "  cols=int(input7(\"Enter the number of cols:\"))\n",
        "  print(\"Enter elements of the array row-wise:\")\n",
        "  elements=[]\n",
        "  for i in range(rows):\n",
        "    row_elements=input().split()\n",
        "    elements.append(row_elements)\n",
        "  arr=np.array(elements,dtype=float)\n",
        "  return arr.shape,arr.strides\n",
        "shape,strides=shape_stride_relationship()\n",
        "print(\"shape of the array:\",shape)\n",
        "print(\"strides of the array:\",strides)\n"
      ],
      "metadata": {
        "colab": {
          "base_uri": "https://localhost:8080/"
        },
        "id": "y8r4cd4WJBvQ",
        "outputId": "07b89724-3b64-4afe-c834-1e70434d51a6"
      },
      "execution_count": null,
      "outputs": [
        {
          "output_type": "stream",
          "name": "stdout",
          "text": [
            "Enter the number of rows:3\n",
            "Enter the number of cols:3\n",
            "Enter elements of the array row-wise:\n",
            "1 2 3\n",
            "4 5 6\n",
            "7 8 9\n",
            "shape of the array: (3, 3)\n",
            "strides of the array: (24, 8)\n"
          ]
        }
      ]
    },
    {
      "cell_type": "markdown",
      "source": [
        "11- Create a function `create_zeros_array` that takes an integer `n` as input and returns a NumPy array of\n",
        "zeros with `n` elements."
      ],
      "metadata": {
        "id": "qqutGsGWN_G3"
      }
    },
    {
      "cell_type": "code",
      "source": [
        "import numpy as np\n",
        "def create_zeros_array(n):\n",
        "  return np.zeros(n)\n",
        "n=int(input(\"Enter the number of elements:\"))\n",
        "zeros_array=create_zeros_array(n)\n",
        "print(\"Arrays of zeroes:\",zeros_array)"
      ],
      "metadata": {
        "colab": {
          "base_uri": "https://localhost:8080/"
        },
        "id": "Czn5tMP78gL8",
        "outputId": "7f1b2c4f-301c-4650-b949-4b3091f30fef"
      },
      "execution_count": null,
      "outputs": [
        {
          "output_type": "stream",
          "name": "stdout",
          "text": [
            "Enter the number of elements:5\n",
            "Arrays of zeroes: [0. 0. 0. 0. 0.]\n"
          ]
        }
      ]
    },
    {
      "cell_type": "markdown",
      "source": [
        "12- Write a function `create_ones_matrix` that takes integers `rows` and `cols` as inputs and generates a 2D\n",
        "NumPy array filled with ones of size `rows x cols`."
      ],
      "metadata": {
        "id": "VgX7YjlM-ZEX"
      }
    },
    {
      "cell_type": "code",
      "source": [
        "import numpy as np\n",
        "def create_ones_matrix(rows,cols):\n",
        "    return np.ones((rows,cols))\n",
        "rows=int(input(\"Enter the number of rows:\"))\n",
        "cols=int(input(\"Enter the number ofcols:\"))\n",
        "ones_matrix=create_ones_matrix(rows,cols)\n",
        "print(\"2D Numpy array\")\n",
        "print(ones_matrix)"
      ],
      "metadata": {
        "colab": {
          "base_uri": "https://localhost:8080/"
        },
        "id": "Sb7cZa0W-gcR",
        "outputId": "01f6f7f0-cf76-438d-e2f8-6d9df38e3d0e"
      },
      "execution_count": null,
      "outputs": [
        {
          "output_type": "stream",
          "name": "stdout",
          "text": [
            "Enter the numberof rows:3\n",
            "Enter the number ofcols:3\n",
            "2D Numpy array\n",
            "[[1. 1. 1.]\n",
            " [1. 1. 1.]\n",
            " [1. 1. 1.]]\n"
          ]
        }
      ]
    },
    {
      "cell_type": "markdown",
      "source": [
        "13- Write a function `generate_range_array` that takes three integers start, stop, and step as arguments and\n",
        "creates a NumPy array with a range starting from `start`, ending at stop (exclusive), and with the specified\n",
        "`step`."
      ],
      "metadata": {
        "id": "M-CeijdbBfwd"
      }
    },
    {
      "cell_type": "code",
      "source": [
        "import numpy as np\n",
        "def generate_range_array(start,stop,step):\n",
        "  return np.arange(start,stop,step)\n",
        "start=int(input(\"Enter the start value:\"))\n",
        "stop=int(input(\"Enter the stop value:\"))\n",
        "step=int(input(\"Enter the step value:\"))\n",
        "generate_array=generate_range_array(start,stop,step)\n",
        "print(\"Generated array:\",generate_array)\n"
      ],
      "metadata": {
        "colab": {
          "base_uri": "https://localhost:8080/"
        },
        "id": "QLr1LM0pBkkt",
        "outputId": "e5e1fde3-b2cb-49d2-f217-ef8c872c5c30"
      },
      "execution_count": null,
      "outputs": [
        {
          "output_type": "stream",
          "name": "stdout",
          "text": [
            "Enter the start value:1\n",
            "Enter the stop value:10\n",
            "Enter the step value:2\n",
            "Generated array: [1 3 5 7 9]\n"
          ]
        }
      ]
    },
    {
      "cell_type": "markdown",
      "source": [
        "14. Design a function `generate_linear_space` that takes two floats `start`, `stop`, and an integer `num` as\n",
        "arguments and generates a NumPy array with num equally spaced values between `start` and `stop`\n",
        "(inclusive)."
      ],
      "metadata": {
        "id": "LhEsVBewGR_1"
      }
    },
    {
      "cell_type": "code",
      "source": [
        "import numpy as np\n",
        "def generate_linear_space(start,stop,num):\n",
        "  return np.linspace(start,stop,num)\n",
        "start=float(input(\"Enter the start value:\"))\n",
        "stop=float(input(\"Enter the stop value:\"))\n",
        "num=int(input(\"Enter the num value:\"))\n",
        "linear_space_array=generate_linear_space(start,stop,num)\n",
        "print(\"Generated space array:\",linear_space_array)\n"
      ],
      "metadata": {
        "colab": {
          "base_uri": "https://localhost:8080/"
        },
        "id": "CVV53dDgGV8g",
        "outputId": "496e0297-df57-4ee5-e434-597a0a3fe91e"
      },
      "execution_count": null,
      "outputs": [
        {
          "output_type": "stream",
          "name": "stdout",
          "text": [
            "Enter the start value:1.0\n",
            "Enter the stop value:5.0\n",
            "Enter the num value:5\n",
            "Generated space array: [1. 2. 3. 4. 5.]\n"
          ]
        }
      ]
    },
    {
      "cell_type": "markdown",
      "source": [
        "15.Create a function `create_identity_matrix` that takes an integer `n` as input and generates a square\n",
        "identity matrix of size `n x n` using `numpy.eye`."
      ],
      "metadata": {
        "id": "aDlbDYXjNUlV"
      }
    },
    {
      "cell_type": "code",
      "source": [
        "import numpy as np\n",
        "def create_identity_matrix(n):\n",
        "  return np.eye(n)\n",
        "n=int(input(\"Enter the size of identity matrix:\"))\n",
        "identity_matrix=create_identity_matrix(n)\n",
        "print(\"generated matrix\")\n",
        "print(identity_matrix)"
      ],
      "metadata": {
        "colab": {
          "base_uri": "https://localhost:8080/"
        },
        "id": "yLasObsWNVM_",
        "outputId": "a85351d1-e335-4caa-8afe-58368f288460"
      },
      "execution_count": null,
      "outputs": [
        {
          "output_type": "stream",
          "name": "stdout",
          "text": [
            "Enter the size of identity matrix:3\n",
            "generated matrix\n",
            "[[1. 0. 0.]\n",
            " [0. 1. 0.]\n",
            " [0. 0. 1.]]\n"
          ]
        }
      ]
    },
    {
      "cell_type": "markdown",
      "source": [
        "16.Write a function that takes a Python list and converts it into a NumPy array"
      ],
      "metadata": {
        "id": "VOY8KPYqQhg1"
      }
    },
    {
      "cell_type": "code",
      "source": [
        "import numpy as np\n",
        "def list_to_numpy_array(py_list):\n",
        "    return np.array(py_list)\n",
        "input_list = input(\"Enter the elements of the list separated by spaces: \").split()\n",
        "input_list = [float(i) for i in input_list]\n",
        "numpy_array = list_to_numpy_array(input_list)\n",
        "print(\"Original  list:\", input_list)\n",
        "print(\"Converted Narray:\", numpy_array)\n",
        "print(\"Type of the original Python list:\", type(input_list))\n",
        "print(\"Type of the converted NumPy array:\", type(numpy_array))\n"
      ],
      "metadata": {
        "colab": {
          "base_uri": "https://localhost:8080/"
        },
        "id": "2SM3TF1DQmQR",
        "outputId": "216819ec-b4a4-4871-caac-83ca590de65b"
      },
      "execution_count": null,
      "outputs": [
        {
          "output_type": "stream",
          "name": "stdout",
          "text": [
            "Enter the elements of the list separated by spaces: 1 2 3 4 5\n",
            "Original  list: [1.0, 2.0, 3.0, 4.0, 5.0]\n",
            "Converted Narray: [1. 2. 3. 4. 5.]\n",
            "Type of the original Python list: <class 'list'>\n",
            "Type of the converted NumPy array: <class 'numpy.ndarray'>\n"
          ]
        }
      ]
    },
    {
      "cell_type": "markdown",
      "source": [
        "17.Create a NumPy array and demonstrate the use of `numpy.view` to create a new array object with the\n",
        "same data.\n"
      ],
      "metadata": {
        "id": "at5RXWfbW7_V"
      }
    },
    {
      "cell_type": "code",
      "source": [
        "import numpy as np\n",
        "original_array=np.array([1,2,3,4,5])\n",
        "view_array=original_array.view()\n",
        "original_array[0]=10\n",
        "print(\"original array:\",original_array)\n",
        "print(\"view_array:\",view_array)\n",
        "print(\"original array identity:\",id(original_array))\n",
        "print(\"view array identity:\",id(view_array))\n",
        "#he numpy.view method is used to create a new array object that shares the data of an existing array.\n",
        "#It's useful when you want to perform operations or calculations on the data of the original array without modifying it."
      ],
      "metadata": {
        "colab": {
          "base_uri": "https://localhost:8080/"
        },
        "id": "BX9pyNSIW_U1",
        "outputId": "5532a08b-bfe4-4416-c6b0-5a7326adc4e6"
      },
      "execution_count": null,
      "outputs": [
        {
          "output_type": "stream",
          "name": "stdout",
          "text": [
            "original array: [10  2  3  4  5]\n",
            "view_array: [10  2  3  4  5]\n",
            "original array identity: 137876929817616\n",
            "view array identity: 137876929388368\n"
          ]
        }
      ]
    },
    {
      "cell_type": "markdown",
      "source": [
        " 18.Write a function that takes two NumPy arrays and concatenates them along a specified axis."
      ],
      "metadata": {
        "id": "lcu1L05IZB88"
      }
    },
    {
      "cell_type": "code",
      "source": [
        "import numpy as np\n",
        "def concatenate_arrays(arr1, arr2, axis=0):\n",
        "  arr=np.concatenate((arr1, arr2), axis=0)\n",
        "  return arr\n",
        "arr1 = np.array([[1, 2], [3, 4]])\n",
        "arr2 = np.array([[5, 6]])\n",
        "print(concatenate_arrays(arr1,arr2,axis=0))"
      ],
      "metadata": {
        "id": "YJp4-ea2sq54",
        "colab": {
          "base_uri": "https://localhost:8080/"
        },
        "outputId": "a5778335-042d-42cb-b86c-b688c028a6a2"
      },
      "execution_count": 26,
      "outputs": [
        {
          "output_type": "stream",
          "name": "stdout",
          "text": [
            "[[1 2]\n",
            " [3 4]\n",
            " [5 6]]\n"
          ]
        }
      ]
    },
    {
      "cell_type": "markdown",
      "source": [
        "19.Create two NumPy arrays with different shapes and concatenate them horizontally using `numpy.concatenate`."
      ],
      "metadata": {
        "id": "9tLwx2Z8t37q"
      }
    },
    {
      "cell_type": "code",
      "source": [
        "import numpy as np\n",
        "arr1 = np.array([[1, 2, 3],\n",
        "                 [4, 5, 6]])\n",
        "arr2 = np.array([[5, 8],\n",
        "                 [4, 10]])\n",
        "concatenated_array = np.concatenate((arr1, arr2), axis=1)\n",
        "concatenated_array"
      ],
      "metadata": {
        "id": "oQwhyuOduPkY",
        "colab": {
          "base_uri": "https://localhost:8080/"
        },
        "outputId": "5545bbaa-0acd-4d17-a214-49b405984e5b"
      },
      "execution_count": 28,
      "outputs": [
        {
          "output_type": "execute_result",
          "data": {
            "text/plain": [
              "array([[ 1,  2,  3,  5,  8],\n",
              "       [ 4,  5,  6,  4, 10]])"
            ]
          },
          "metadata": {},
          "execution_count": 28
        }
      ]
    },
    {
      "cell_type": "markdown",
      "source": [
        "20.Write a function that vertically stacks multiple NumPy arrays given as a list.\n",
        "\n",
        "\n"
      ],
      "metadata": {
        "id": "dsBRBla1ws3Q"
      }
    },
    {
      "cell_type": "code",
      "source": [
        "import numpy as np\n",
        "def stack_arrays_vertically(arrays):\n",
        "    return np.vstack(arrays)\n",
        "arr1 = np.array([[1, 2], [3, 4]])\n",
        "arr2 = np.array([[5, 6], [7, 8]])\n",
        "arr3 = np.array([[9, 10], [11, 12]])\n",
        "print(stack_arrays_vertically([arr1,arr2,arr3]))"
      ],
      "metadata": {
        "id": "dMYp9K7cxeYX",
        "colab": {
          "base_uri": "https://localhost:8080/"
        },
        "outputId": "c17e5269-ba8e-4efc-f84d-ba30fdf1e13e"
      },
      "execution_count": 30,
      "outputs": [
        {
          "output_type": "stream",
          "name": "stdout",
          "text": [
            "[[ 1  2]\n",
            " [ 3  4]\n",
            " [ 5  6]\n",
            " [ 7  8]\n",
            " [ 9 10]\n",
            " [11 12]]\n"
          ]
        }
      ]
    },
    {
      "cell_type": "markdown",
      "source": [
        "21.Write a Python function using NumPy to create an array of integers within a specified range (inclusive)\n",
        "with a given step size."
      ],
      "metadata": {
        "id": "Jbcf0EK6yPFd"
      }
    },
    {
      "cell_type": "code",
      "source": [
        "import numpy as np\n",
        "def create_integer_array(start,stop,step):\n",
        "  return np.arange(start,stop+1,step,dtype=int)\n",
        "start=int(input(\"Enter the start of the range:\"))\n",
        "stop=int(input(\"Enter the end of the range:\"))\n",
        "step=int(input(\"Enter the step size:\"))\n",
        "result=create_integer_array(start,stop,step)\n",
        "print(\"Result array:\",result)\n"
      ],
      "metadata": {
        "colab": {
          "base_uri": "https://localhost:8080/"
        },
        "id": "xwCFFA7fyVcL",
        "outputId": "f5978c7d-f880-49b1-b583-f6f32d1d7dcd"
      },
      "execution_count": null,
      "outputs": [
        {
          "output_type": "stream",
          "name": "stdout",
          "text": [
            "Enter the start of the range:3\n",
            "Enter the end of the range:15\n",
            "Enter the step size:2\n",
            "Result array: [ 3  5  7  9 11 13 15]\n"
          ]
        }
      ]
    },
    {
      "cell_type": "markdown",
      "source": [
        "22. Write a Python function using NumPy to generate an array of 10 equally spaced values between 0 and 1\n",
        "(inclusive)."
      ],
      "metadata": {
        "id": "gGgoB4LA1JqC"
      }
    },
    {
      "cell_type": "code",
      "source": [
        "import numpy as np\n",
        "def generate_array():\n",
        "  return np.linspace(0,1,10)\n",
        "result_array=generate_array()\n",
        "print(result_array)"
      ],
      "metadata": {
        "colab": {
          "base_uri": "https://localhost:8080/"
        },
        "id": "Dzj-6d7S1Saj",
        "outputId": "30ded069-38c2-49bd-cdd2-d4dfb64e3a3a"
      },
      "execution_count": null,
      "outputs": [
        {
          "output_type": "stream",
          "name": "stdout",
          "text": [
            "[0.         0.11111111 0.22222222 0.33333333 0.44444444 0.55555556\n",
            " 0.66666667 0.77777778 0.88888889 1.        ]\n"
          ]
        }
      ]
    },
    {
      "cell_type": "markdown",
      "source": [
        "23.Write a Python function using NumPy to create an array of 5 logarithmically spaced values between 1 and\n",
        "1000 (inclusive)."
      ],
      "metadata": {
        "id": "OqWyy5m04mD0"
      }
    },
    {
      "cell_type": "code",
      "source": [
        "import numpy as np\n",
        "def generate_array():\n",
        "  return np.logspace(0,3,5)\n",
        "result=generate_array()\n",
        "print(result)\n"
      ],
      "metadata": {
        "colab": {
          "base_uri": "https://localhost:8080/"
        },
        "id": "XjiaB3Vc4pE7",
        "outputId": "5a4337d2-172a-456a-b6a4-ca9cc682d9e9"
      },
      "execution_count": null,
      "outputs": [
        {
          "output_type": "stream",
          "name": "stdout",
          "text": [
            "[   1.            5.62341325   31.6227766   177.827941   1000.        ]\n"
          ]
        }
      ]
    },
    {
      "cell_type": "markdown",
      "source": [
        "24.Create a Pandas DataFrame using a NumPy array that contains 5 rows and 3 columns, where the values\n",
        "are random integers between 1 and 100."
      ],
      "metadata": {
        "id": "Q0Wo4rmN_Sqf"
      }
    },
    {
      "cell_type": "code",
      "source": [
        "import pandas as pd\n",
        "np.random.seed(42)  # For reproducibility\n",
        "data = np.random.randint(1, 101, size=(5, 3))\n",
        "df = pd.DataFrame(data, columns=['Column1', 'Column2', 'Column3'])\n",
        "df"
      ],
      "metadata": {
        "id": "rJ8Eev5C_TqK",
        "colab": {
          "base_uri": "https://localhost:8080/",
          "height": 206
        },
        "outputId": "b9b5e452-d670-4f02-be50-f96cc7e42079"
      },
      "execution_count": 34,
      "outputs": [
        {
          "output_type": "execute_result",
          "data": {
            "text/plain": [
              "   Column1  Column2  Column3\n",
              "0       52       93       15\n",
              "1       72       61       21\n",
              "2       83       87       75\n",
              "3       75       88      100\n",
              "4       24        3       22"
            ],
            "text/html": [
              "\n",
              "  <div id=\"df-68c333c4-785a-4ac9-8ed1-27eaa4a40220\" class=\"colab-df-container\">\n",
              "    <div>\n",
              "<style scoped>\n",
              "    .dataframe tbody tr th:only-of-type {\n",
              "        vertical-align: middle;\n",
              "    }\n",
              "\n",
              "    .dataframe tbody tr th {\n",
              "        vertical-align: top;\n",
              "    }\n",
              "\n",
              "    .dataframe thead th {\n",
              "        text-align: right;\n",
              "    }\n",
              "</style>\n",
              "<table border=\"1\" class=\"dataframe\">\n",
              "  <thead>\n",
              "    <tr style=\"text-align: right;\">\n",
              "      <th></th>\n",
              "      <th>Column1</th>\n",
              "      <th>Column2</th>\n",
              "      <th>Column3</th>\n",
              "    </tr>\n",
              "  </thead>\n",
              "  <tbody>\n",
              "    <tr>\n",
              "      <th>0</th>\n",
              "      <td>52</td>\n",
              "      <td>93</td>\n",
              "      <td>15</td>\n",
              "    </tr>\n",
              "    <tr>\n",
              "      <th>1</th>\n",
              "      <td>72</td>\n",
              "      <td>61</td>\n",
              "      <td>21</td>\n",
              "    </tr>\n",
              "    <tr>\n",
              "      <th>2</th>\n",
              "      <td>83</td>\n",
              "      <td>87</td>\n",
              "      <td>75</td>\n",
              "    </tr>\n",
              "    <tr>\n",
              "      <th>3</th>\n",
              "      <td>75</td>\n",
              "      <td>88</td>\n",
              "      <td>100</td>\n",
              "    </tr>\n",
              "    <tr>\n",
              "      <th>4</th>\n",
              "      <td>24</td>\n",
              "      <td>3</td>\n",
              "      <td>22</td>\n",
              "    </tr>\n",
              "  </tbody>\n",
              "</table>\n",
              "</div>\n",
              "    <div class=\"colab-df-buttons\">\n",
              "\n",
              "  <div class=\"colab-df-container\">\n",
              "    <button class=\"colab-df-convert\" onclick=\"convertToInteractive('df-68c333c4-785a-4ac9-8ed1-27eaa4a40220')\"\n",
              "            title=\"Convert this dataframe to an interactive table.\"\n",
              "            style=\"display:none;\">\n",
              "\n",
              "  <svg xmlns=\"http://www.w3.org/2000/svg\" height=\"24px\" viewBox=\"0 -960 960 960\">\n",
              "    <path d=\"M120-120v-720h720v720H120Zm60-500h600v-160H180v160Zm220 220h160v-160H400v160Zm0 220h160v-160H400v160ZM180-400h160v-160H180v160Zm440 0h160v-160H620v160ZM180-180h160v-160H180v160Zm440 0h160v-160H620v160Z\"/>\n",
              "  </svg>\n",
              "    </button>\n",
              "\n",
              "  <style>\n",
              "    .colab-df-container {\n",
              "      display:flex;\n",
              "      gap: 12px;\n",
              "    }\n",
              "\n",
              "    .colab-df-convert {\n",
              "      background-color: #E8F0FE;\n",
              "      border: none;\n",
              "      border-radius: 50%;\n",
              "      cursor: pointer;\n",
              "      display: none;\n",
              "      fill: #1967D2;\n",
              "      height: 32px;\n",
              "      padding: 0 0 0 0;\n",
              "      width: 32px;\n",
              "    }\n",
              "\n",
              "    .colab-df-convert:hover {\n",
              "      background-color: #E2EBFA;\n",
              "      box-shadow: 0px 1px 2px rgba(60, 64, 67, 0.3), 0px 1px 3px 1px rgba(60, 64, 67, 0.15);\n",
              "      fill: #174EA6;\n",
              "    }\n",
              "\n",
              "    .colab-df-buttons div {\n",
              "      margin-bottom: 4px;\n",
              "    }\n",
              "\n",
              "    [theme=dark] .colab-df-convert {\n",
              "      background-color: #3B4455;\n",
              "      fill: #D2E3FC;\n",
              "    }\n",
              "\n",
              "    [theme=dark] .colab-df-convert:hover {\n",
              "      background-color: #434B5C;\n",
              "      box-shadow: 0px 1px 3px 1px rgba(0, 0, 0, 0.15);\n",
              "      filter: drop-shadow(0px 1px 2px rgba(0, 0, 0, 0.3));\n",
              "      fill: #FFFFFF;\n",
              "    }\n",
              "  </style>\n",
              "\n",
              "    <script>\n",
              "      const buttonEl =\n",
              "        document.querySelector('#df-68c333c4-785a-4ac9-8ed1-27eaa4a40220 button.colab-df-convert');\n",
              "      buttonEl.style.display =\n",
              "        google.colab.kernel.accessAllowed ? 'block' : 'none';\n",
              "\n",
              "      async function convertToInteractive(key) {\n",
              "        const element = document.querySelector('#df-68c333c4-785a-4ac9-8ed1-27eaa4a40220');\n",
              "        const dataTable =\n",
              "          await google.colab.kernel.invokeFunction('convertToInteractive',\n",
              "                                                    [key], {});\n",
              "        if (!dataTable) return;\n",
              "\n",
              "        const docLinkHtml = 'Like what you see? Visit the ' +\n",
              "          '<a target=\"_blank\" href=https://colab.research.google.com/notebooks/data_table.ipynb>data table notebook</a>'\n",
              "          + ' to learn more about interactive tables.';\n",
              "        element.innerHTML = '';\n",
              "        dataTable['output_type'] = 'display_data';\n",
              "        await google.colab.output.renderOutput(dataTable, element);\n",
              "        const docLink = document.createElement('div');\n",
              "        docLink.innerHTML = docLinkHtml;\n",
              "        element.appendChild(docLink);\n",
              "      }\n",
              "    </script>\n",
              "  </div>\n",
              "\n",
              "\n",
              "<div id=\"df-254e6fe6-7d4e-4e68-834f-cc10c536314e\">\n",
              "  <button class=\"colab-df-quickchart\" onclick=\"quickchart('df-254e6fe6-7d4e-4e68-834f-cc10c536314e')\"\n",
              "            title=\"Suggest charts\"\n",
              "            style=\"display:none;\">\n",
              "\n",
              "<svg xmlns=\"http://www.w3.org/2000/svg\" height=\"24px\"viewBox=\"0 0 24 24\"\n",
              "     width=\"24px\">\n",
              "    <g>\n",
              "        <path d=\"M19 3H5c-1.1 0-2 .9-2 2v14c0 1.1.9 2 2 2h14c1.1 0 2-.9 2-2V5c0-1.1-.9-2-2-2zM9 17H7v-7h2v7zm4 0h-2V7h2v10zm4 0h-2v-4h2v4z\"/>\n",
              "    </g>\n",
              "</svg>\n",
              "  </button>\n",
              "\n",
              "<style>\n",
              "  .colab-df-quickchart {\n",
              "      --bg-color: #E8F0FE;\n",
              "      --fill-color: #1967D2;\n",
              "      --hover-bg-color: #E2EBFA;\n",
              "      --hover-fill-color: #174EA6;\n",
              "      --disabled-fill-color: #AAA;\n",
              "      --disabled-bg-color: #DDD;\n",
              "  }\n",
              "\n",
              "  [theme=dark] .colab-df-quickchart {\n",
              "      --bg-color: #3B4455;\n",
              "      --fill-color: #D2E3FC;\n",
              "      --hover-bg-color: #434B5C;\n",
              "      --hover-fill-color: #FFFFFF;\n",
              "      --disabled-bg-color: #3B4455;\n",
              "      --disabled-fill-color: #666;\n",
              "  }\n",
              "\n",
              "  .colab-df-quickchart {\n",
              "    background-color: var(--bg-color);\n",
              "    border: none;\n",
              "    border-radius: 50%;\n",
              "    cursor: pointer;\n",
              "    display: none;\n",
              "    fill: var(--fill-color);\n",
              "    height: 32px;\n",
              "    padding: 0;\n",
              "    width: 32px;\n",
              "  }\n",
              "\n",
              "  .colab-df-quickchart:hover {\n",
              "    background-color: var(--hover-bg-color);\n",
              "    box-shadow: 0 1px 2px rgba(60, 64, 67, 0.3), 0 1px 3px 1px rgba(60, 64, 67, 0.15);\n",
              "    fill: var(--button-hover-fill-color);\n",
              "  }\n",
              "\n",
              "  .colab-df-quickchart-complete:disabled,\n",
              "  .colab-df-quickchart-complete:disabled:hover {\n",
              "    background-color: var(--disabled-bg-color);\n",
              "    fill: var(--disabled-fill-color);\n",
              "    box-shadow: none;\n",
              "  }\n",
              "\n",
              "  .colab-df-spinner {\n",
              "    border: 2px solid var(--fill-color);\n",
              "    border-color: transparent;\n",
              "    border-bottom-color: var(--fill-color);\n",
              "    animation:\n",
              "      spin 1s steps(1) infinite;\n",
              "  }\n",
              "\n",
              "  @keyframes spin {\n",
              "    0% {\n",
              "      border-color: transparent;\n",
              "      border-bottom-color: var(--fill-color);\n",
              "      border-left-color: var(--fill-color);\n",
              "    }\n",
              "    20% {\n",
              "      border-color: transparent;\n",
              "      border-left-color: var(--fill-color);\n",
              "      border-top-color: var(--fill-color);\n",
              "    }\n",
              "    30% {\n",
              "      border-color: transparent;\n",
              "      border-left-color: var(--fill-color);\n",
              "      border-top-color: var(--fill-color);\n",
              "      border-right-color: var(--fill-color);\n",
              "    }\n",
              "    40% {\n",
              "      border-color: transparent;\n",
              "      border-right-color: var(--fill-color);\n",
              "      border-top-color: var(--fill-color);\n",
              "    }\n",
              "    60% {\n",
              "      border-color: transparent;\n",
              "      border-right-color: var(--fill-color);\n",
              "    }\n",
              "    80% {\n",
              "      border-color: transparent;\n",
              "      border-right-color: var(--fill-color);\n",
              "      border-bottom-color: var(--fill-color);\n",
              "    }\n",
              "    90% {\n",
              "      border-color: transparent;\n",
              "      border-bottom-color: var(--fill-color);\n",
              "    }\n",
              "  }\n",
              "</style>\n",
              "\n",
              "  <script>\n",
              "    async function quickchart(key) {\n",
              "      const quickchartButtonEl =\n",
              "        document.querySelector('#' + key + ' button');\n",
              "      quickchartButtonEl.disabled = true;  // To prevent multiple clicks.\n",
              "      quickchartButtonEl.classList.add('colab-df-spinner');\n",
              "      try {\n",
              "        const charts = await google.colab.kernel.invokeFunction(\n",
              "            'suggestCharts', [key], {});\n",
              "      } catch (error) {\n",
              "        console.error('Error during call to suggestCharts:', error);\n",
              "      }\n",
              "      quickchartButtonEl.classList.remove('colab-df-spinner');\n",
              "      quickchartButtonEl.classList.add('colab-df-quickchart-complete');\n",
              "    }\n",
              "    (() => {\n",
              "      let quickchartButtonEl =\n",
              "        document.querySelector('#df-254e6fe6-7d4e-4e68-834f-cc10c536314e button');\n",
              "      quickchartButtonEl.style.display =\n",
              "        google.colab.kernel.accessAllowed ? 'block' : 'none';\n",
              "    })();\n",
              "  </script>\n",
              "</div>\n",
              "\n",
              "  <div id=\"id_cbfad2ca-b703-4b62-94ae-d432d37ef5b7\">\n",
              "    <style>\n",
              "      .colab-df-generate {\n",
              "        background-color: #E8F0FE;\n",
              "        border: none;\n",
              "        border-radius: 50%;\n",
              "        cursor: pointer;\n",
              "        display: none;\n",
              "        fill: #1967D2;\n",
              "        height: 32px;\n",
              "        padding: 0 0 0 0;\n",
              "        width: 32px;\n",
              "      }\n",
              "\n",
              "      .colab-df-generate:hover {\n",
              "        background-color: #E2EBFA;\n",
              "        box-shadow: 0px 1px 2px rgba(60, 64, 67, 0.3), 0px 1px 3px 1px rgba(60, 64, 67, 0.15);\n",
              "        fill: #174EA6;\n",
              "      }\n",
              "\n",
              "      [theme=dark] .colab-df-generate {\n",
              "        background-color: #3B4455;\n",
              "        fill: #D2E3FC;\n",
              "      }\n",
              "\n",
              "      [theme=dark] .colab-df-generate:hover {\n",
              "        background-color: #434B5C;\n",
              "        box-shadow: 0px 1px 3px 1px rgba(0, 0, 0, 0.15);\n",
              "        filter: drop-shadow(0px 1px 2px rgba(0, 0, 0, 0.3));\n",
              "        fill: #FFFFFF;\n",
              "      }\n",
              "    </style>\n",
              "    <button class=\"colab-df-generate\" onclick=\"generateWithVariable('df')\"\n",
              "            title=\"Generate code using this dataframe.\"\n",
              "            style=\"display:none;\">\n",
              "\n",
              "  <svg xmlns=\"http://www.w3.org/2000/svg\" height=\"24px\"viewBox=\"0 0 24 24\"\n",
              "       width=\"24px\">\n",
              "    <path d=\"M7,19H8.4L18.45,9,17,7.55,7,17.6ZM5,21V16.75L18.45,3.32a2,2,0,0,1,2.83,0l1.4,1.43a1.91,1.91,0,0,1,.58,1.4,1.91,1.91,0,0,1-.58,1.4L9.25,21ZM18.45,9,17,7.55Zm-12,3A5.31,5.31,0,0,0,4.9,8.1,5.31,5.31,0,0,0,1,6.5,5.31,5.31,0,0,0,4.9,4.9,5.31,5.31,0,0,0,6.5,1,5.31,5.31,0,0,0,8.1,4.9,5.31,5.31,0,0,0,12,6.5,5.46,5.46,0,0,0,6.5,12Z\"/>\n",
              "  </svg>\n",
              "    </button>\n",
              "    <script>\n",
              "      (() => {\n",
              "      const buttonEl =\n",
              "        document.querySelector('#id_cbfad2ca-b703-4b62-94ae-d432d37ef5b7 button.colab-df-generate');\n",
              "      buttonEl.style.display =\n",
              "        google.colab.kernel.accessAllowed ? 'block' : 'none';\n",
              "\n",
              "      buttonEl.onclick = () => {\n",
              "        google.colab.notebook.generateWithVariable('df');\n",
              "      }\n",
              "      })();\n",
              "    </script>\n",
              "  </div>\n",
              "\n",
              "    </div>\n",
              "  </div>\n"
            ],
            "application/vnd.google.colaboratory.intrinsic+json": {
              "type": "dataframe",
              "variable_name": "df",
              "summary": "{\n  \"name\": \"df\",\n  \"rows\": 5,\n  \"fields\": [\n    {\n      \"column\": \"Column1\",\n      \"properties\": {\n        \"dtype\": \"number\",\n        \"std\": 23,\n        \"min\": 24,\n        \"max\": 83,\n        \"num_unique_values\": 5,\n        \"samples\": [\n          72,\n          24,\n          83\n        ],\n        \"semantic_type\": \"\",\n        \"description\": \"\"\n      }\n    },\n    {\n      \"column\": \"Column2\",\n      \"properties\": {\n        \"dtype\": \"number\",\n        \"std\": 37,\n        \"min\": 3,\n        \"max\": 93,\n        \"num_unique_values\": 5,\n        \"samples\": [\n          61,\n          3,\n          87\n        ],\n        \"semantic_type\": \"\",\n        \"description\": \"\"\n      }\n    },\n    {\n      \"column\": \"Column3\",\n      \"properties\": {\n        \"dtype\": \"number\",\n        \"std\": 38,\n        \"min\": 15,\n        \"max\": 100,\n        \"num_unique_values\": 5,\n        \"samples\": [\n          21,\n          22,\n          75\n        ],\n        \"semantic_type\": \"\",\n        \"description\": \"\"\n      }\n    }\n  ]\n}"
            }
          },
          "metadata": {},
          "execution_count": 34
        }
      ]
    },
    {
      "cell_type": "markdown",
      "source": [
        "25.. Write a function that takes a Pandas DataFrame and replaces all negative values in a specific column\n",
        "with zeros. Use NumPy operations within the Pandas DataFrame."
      ],
      "metadata": {
        "id": "CZ6o3x2AZtr7"
      }
    },
    {
      "cell_type": "code",
      "source": [
        "def replace_negative_with_zeros(df, column_name):\n",
        "    df[column_name] = np.where(df[column_name] < 0, 0, df[column_name])\n",
        "    return df\n",
        "data = {'A': [1, 2, -3, 4, -5],\n",
        "        'B': [5, -6, 7, -8, 9]}\n",
        "df = pd.DataFrame(data)\n",
        "df=replace_negative_with_zeros(df, 'A')\n",
        "df=replace_negative_with_zeros(df,'B')\n",
        "df"
      ],
      "metadata": {
        "id": "jKLmvIfEZ5fl",
        "colab": {
          "base_uri": "https://localhost:8080/",
          "height": 206
        },
        "outputId": "fe953fa5-860d-4dc7-f5f8-4f421595cddc"
      },
      "execution_count": 35,
      "outputs": [
        {
          "output_type": "execute_result",
          "data": {
            "text/plain": [
              "   A  B\n",
              "0  1  5\n",
              "1  2  0\n",
              "2  0  7\n",
              "3  4  0\n",
              "4  0  9"
            ],
            "text/html": [
              "\n",
              "  <div id=\"df-d045d3ce-b8b8-4158-b809-36c40c2c7aca\" class=\"colab-df-container\">\n",
              "    <div>\n",
              "<style scoped>\n",
              "    .dataframe tbody tr th:only-of-type {\n",
              "        vertical-align: middle;\n",
              "    }\n",
              "\n",
              "    .dataframe tbody tr th {\n",
              "        vertical-align: top;\n",
              "    }\n",
              "\n",
              "    .dataframe thead th {\n",
              "        text-align: right;\n",
              "    }\n",
              "</style>\n",
              "<table border=\"1\" class=\"dataframe\">\n",
              "  <thead>\n",
              "    <tr style=\"text-align: right;\">\n",
              "      <th></th>\n",
              "      <th>A</th>\n",
              "      <th>B</th>\n",
              "    </tr>\n",
              "  </thead>\n",
              "  <tbody>\n",
              "    <tr>\n",
              "      <th>0</th>\n",
              "      <td>1</td>\n",
              "      <td>5</td>\n",
              "    </tr>\n",
              "    <tr>\n",
              "      <th>1</th>\n",
              "      <td>2</td>\n",
              "      <td>0</td>\n",
              "    </tr>\n",
              "    <tr>\n",
              "      <th>2</th>\n",
              "      <td>0</td>\n",
              "      <td>7</td>\n",
              "    </tr>\n",
              "    <tr>\n",
              "      <th>3</th>\n",
              "      <td>4</td>\n",
              "      <td>0</td>\n",
              "    </tr>\n",
              "    <tr>\n",
              "      <th>4</th>\n",
              "      <td>0</td>\n",
              "      <td>9</td>\n",
              "    </tr>\n",
              "  </tbody>\n",
              "</table>\n",
              "</div>\n",
              "    <div class=\"colab-df-buttons\">\n",
              "\n",
              "  <div class=\"colab-df-container\">\n",
              "    <button class=\"colab-df-convert\" onclick=\"convertToInteractive('df-d045d3ce-b8b8-4158-b809-36c40c2c7aca')\"\n",
              "            title=\"Convert this dataframe to an interactive table.\"\n",
              "            style=\"display:none;\">\n",
              "\n",
              "  <svg xmlns=\"http://www.w3.org/2000/svg\" height=\"24px\" viewBox=\"0 -960 960 960\">\n",
              "    <path d=\"M120-120v-720h720v720H120Zm60-500h600v-160H180v160Zm220 220h160v-160H400v160Zm0 220h160v-160H400v160ZM180-400h160v-160H180v160Zm440 0h160v-160H620v160ZM180-180h160v-160H180v160Zm440 0h160v-160H620v160Z\"/>\n",
              "  </svg>\n",
              "    </button>\n",
              "\n",
              "  <style>\n",
              "    .colab-df-container {\n",
              "      display:flex;\n",
              "      gap: 12px;\n",
              "    }\n",
              "\n",
              "    .colab-df-convert {\n",
              "      background-color: #E8F0FE;\n",
              "      border: none;\n",
              "      border-radius: 50%;\n",
              "      cursor: pointer;\n",
              "      display: none;\n",
              "      fill: #1967D2;\n",
              "      height: 32px;\n",
              "      padding: 0 0 0 0;\n",
              "      width: 32px;\n",
              "    }\n",
              "\n",
              "    .colab-df-convert:hover {\n",
              "      background-color: #E2EBFA;\n",
              "      box-shadow: 0px 1px 2px rgba(60, 64, 67, 0.3), 0px 1px 3px 1px rgba(60, 64, 67, 0.15);\n",
              "      fill: #174EA6;\n",
              "    }\n",
              "\n",
              "    .colab-df-buttons div {\n",
              "      margin-bottom: 4px;\n",
              "    }\n",
              "\n",
              "    [theme=dark] .colab-df-convert {\n",
              "      background-color: #3B4455;\n",
              "      fill: #D2E3FC;\n",
              "    }\n",
              "\n",
              "    [theme=dark] .colab-df-convert:hover {\n",
              "      background-color: #434B5C;\n",
              "      box-shadow: 0px 1px 3px 1px rgba(0, 0, 0, 0.15);\n",
              "      filter: drop-shadow(0px 1px 2px rgba(0, 0, 0, 0.3));\n",
              "      fill: #FFFFFF;\n",
              "    }\n",
              "  </style>\n",
              "\n",
              "    <script>\n",
              "      const buttonEl =\n",
              "        document.querySelector('#df-d045d3ce-b8b8-4158-b809-36c40c2c7aca button.colab-df-convert');\n",
              "      buttonEl.style.display =\n",
              "        google.colab.kernel.accessAllowed ? 'block' : 'none';\n",
              "\n",
              "      async function convertToInteractive(key) {\n",
              "        const element = document.querySelector('#df-d045d3ce-b8b8-4158-b809-36c40c2c7aca');\n",
              "        const dataTable =\n",
              "          await google.colab.kernel.invokeFunction('convertToInteractive',\n",
              "                                                    [key], {});\n",
              "        if (!dataTable) return;\n",
              "\n",
              "        const docLinkHtml = 'Like what you see? Visit the ' +\n",
              "          '<a target=\"_blank\" href=https://colab.research.google.com/notebooks/data_table.ipynb>data table notebook</a>'\n",
              "          + ' to learn more about interactive tables.';\n",
              "        element.innerHTML = '';\n",
              "        dataTable['output_type'] = 'display_data';\n",
              "        await google.colab.output.renderOutput(dataTable, element);\n",
              "        const docLink = document.createElement('div');\n",
              "        docLink.innerHTML = docLinkHtml;\n",
              "        element.appendChild(docLink);\n",
              "      }\n",
              "    </script>\n",
              "  </div>\n",
              "\n",
              "\n",
              "<div id=\"df-305f874d-5f36-4d49-ab95-fe6bb5dd80d6\">\n",
              "  <button class=\"colab-df-quickchart\" onclick=\"quickchart('df-305f874d-5f36-4d49-ab95-fe6bb5dd80d6')\"\n",
              "            title=\"Suggest charts\"\n",
              "            style=\"display:none;\">\n",
              "\n",
              "<svg xmlns=\"http://www.w3.org/2000/svg\" height=\"24px\"viewBox=\"0 0 24 24\"\n",
              "     width=\"24px\">\n",
              "    <g>\n",
              "        <path d=\"M19 3H5c-1.1 0-2 .9-2 2v14c0 1.1.9 2 2 2h14c1.1 0 2-.9 2-2V5c0-1.1-.9-2-2-2zM9 17H7v-7h2v7zm4 0h-2V7h2v10zm4 0h-2v-4h2v4z\"/>\n",
              "    </g>\n",
              "</svg>\n",
              "  </button>\n",
              "\n",
              "<style>\n",
              "  .colab-df-quickchart {\n",
              "      --bg-color: #E8F0FE;\n",
              "      --fill-color: #1967D2;\n",
              "      --hover-bg-color: #E2EBFA;\n",
              "      --hover-fill-color: #174EA6;\n",
              "      --disabled-fill-color: #AAA;\n",
              "      --disabled-bg-color: #DDD;\n",
              "  }\n",
              "\n",
              "  [theme=dark] .colab-df-quickchart {\n",
              "      --bg-color: #3B4455;\n",
              "      --fill-color: #D2E3FC;\n",
              "      --hover-bg-color: #434B5C;\n",
              "      --hover-fill-color: #FFFFFF;\n",
              "      --disabled-bg-color: #3B4455;\n",
              "      --disabled-fill-color: #666;\n",
              "  }\n",
              "\n",
              "  .colab-df-quickchart {\n",
              "    background-color: var(--bg-color);\n",
              "    border: none;\n",
              "    border-radius: 50%;\n",
              "    cursor: pointer;\n",
              "    display: none;\n",
              "    fill: var(--fill-color);\n",
              "    height: 32px;\n",
              "    padding: 0;\n",
              "    width: 32px;\n",
              "  }\n",
              "\n",
              "  .colab-df-quickchart:hover {\n",
              "    background-color: var(--hover-bg-color);\n",
              "    box-shadow: 0 1px 2px rgba(60, 64, 67, 0.3), 0 1px 3px 1px rgba(60, 64, 67, 0.15);\n",
              "    fill: var(--button-hover-fill-color);\n",
              "  }\n",
              "\n",
              "  .colab-df-quickchart-complete:disabled,\n",
              "  .colab-df-quickchart-complete:disabled:hover {\n",
              "    background-color: var(--disabled-bg-color);\n",
              "    fill: var(--disabled-fill-color);\n",
              "    box-shadow: none;\n",
              "  }\n",
              "\n",
              "  .colab-df-spinner {\n",
              "    border: 2px solid var(--fill-color);\n",
              "    border-color: transparent;\n",
              "    border-bottom-color: var(--fill-color);\n",
              "    animation:\n",
              "      spin 1s steps(1) infinite;\n",
              "  }\n",
              "\n",
              "  @keyframes spin {\n",
              "    0% {\n",
              "      border-color: transparent;\n",
              "      border-bottom-color: var(--fill-color);\n",
              "      border-left-color: var(--fill-color);\n",
              "    }\n",
              "    20% {\n",
              "      border-color: transparent;\n",
              "      border-left-color: var(--fill-color);\n",
              "      border-top-color: var(--fill-color);\n",
              "    }\n",
              "    30% {\n",
              "      border-color: transparent;\n",
              "      border-left-color: var(--fill-color);\n",
              "      border-top-color: var(--fill-color);\n",
              "      border-right-color: var(--fill-color);\n",
              "    }\n",
              "    40% {\n",
              "      border-color: transparent;\n",
              "      border-right-color: var(--fill-color);\n",
              "      border-top-color: var(--fill-color);\n",
              "    }\n",
              "    60% {\n",
              "      border-color: transparent;\n",
              "      border-right-color: var(--fill-color);\n",
              "    }\n",
              "    80% {\n",
              "      border-color: transparent;\n",
              "      border-right-color: var(--fill-color);\n",
              "      border-bottom-color: var(--fill-color);\n",
              "    }\n",
              "    90% {\n",
              "      border-color: transparent;\n",
              "      border-bottom-color: var(--fill-color);\n",
              "    }\n",
              "  }\n",
              "</style>\n",
              "\n",
              "  <script>\n",
              "    async function quickchart(key) {\n",
              "      const quickchartButtonEl =\n",
              "        document.querySelector('#' + key + ' button');\n",
              "      quickchartButtonEl.disabled = true;  // To prevent multiple clicks.\n",
              "      quickchartButtonEl.classList.add('colab-df-spinner');\n",
              "      try {\n",
              "        const charts = await google.colab.kernel.invokeFunction(\n",
              "            'suggestCharts', [key], {});\n",
              "      } catch (error) {\n",
              "        console.error('Error during call to suggestCharts:', error);\n",
              "      }\n",
              "      quickchartButtonEl.classList.remove('colab-df-spinner');\n",
              "      quickchartButtonEl.classList.add('colab-df-quickchart-complete');\n",
              "    }\n",
              "    (() => {\n",
              "      let quickchartButtonEl =\n",
              "        document.querySelector('#df-305f874d-5f36-4d49-ab95-fe6bb5dd80d6 button');\n",
              "      quickchartButtonEl.style.display =\n",
              "        google.colab.kernel.accessAllowed ? 'block' : 'none';\n",
              "    })();\n",
              "  </script>\n",
              "</div>\n",
              "\n",
              "  <div id=\"id_c0a83d9b-9bb8-46bf-ae5a-702d399bb5d0\">\n",
              "    <style>\n",
              "      .colab-df-generate {\n",
              "        background-color: #E8F0FE;\n",
              "        border: none;\n",
              "        border-radius: 50%;\n",
              "        cursor: pointer;\n",
              "        display: none;\n",
              "        fill: #1967D2;\n",
              "        height: 32px;\n",
              "        padding: 0 0 0 0;\n",
              "        width: 32px;\n",
              "      }\n",
              "\n",
              "      .colab-df-generate:hover {\n",
              "        background-color: #E2EBFA;\n",
              "        box-shadow: 0px 1px 2px rgba(60, 64, 67, 0.3), 0px 1px 3px 1px rgba(60, 64, 67, 0.15);\n",
              "        fill: #174EA6;\n",
              "      }\n",
              "\n",
              "      [theme=dark] .colab-df-generate {\n",
              "        background-color: #3B4455;\n",
              "        fill: #D2E3FC;\n",
              "      }\n",
              "\n",
              "      [theme=dark] .colab-df-generate:hover {\n",
              "        background-color: #434B5C;\n",
              "        box-shadow: 0px 1px 3px 1px rgba(0, 0, 0, 0.15);\n",
              "        filter: drop-shadow(0px 1px 2px rgba(0, 0, 0, 0.3));\n",
              "        fill: #FFFFFF;\n",
              "      }\n",
              "    </style>\n",
              "    <button class=\"colab-df-generate\" onclick=\"generateWithVariable('df')\"\n",
              "            title=\"Generate code using this dataframe.\"\n",
              "            style=\"display:none;\">\n",
              "\n",
              "  <svg xmlns=\"http://www.w3.org/2000/svg\" height=\"24px\"viewBox=\"0 0 24 24\"\n",
              "       width=\"24px\">\n",
              "    <path d=\"M7,19H8.4L18.45,9,17,7.55,7,17.6ZM5,21V16.75L18.45,3.32a2,2,0,0,1,2.83,0l1.4,1.43a1.91,1.91,0,0,1,.58,1.4,1.91,1.91,0,0,1-.58,1.4L9.25,21ZM18.45,9,17,7.55Zm-12,3A5.31,5.31,0,0,0,4.9,8.1,5.31,5.31,0,0,0,1,6.5,5.31,5.31,0,0,0,4.9,4.9,5.31,5.31,0,0,0,6.5,1,5.31,5.31,0,0,0,8.1,4.9,5.31,5.31,0,0,0,12,6.5,5.46,5.46,0,0,0,6.5,12Z\"/>\n",
              "  </svg>\n",
              "    </button>\n",
              "    <script>\n",
              "      (() => {\n",
              "      const buttonEl =\n",
              "        document.querySelector('#id_c0a83d9b-9bb8-46bf-ae5a-702d399bb5d0 button.colab-df-generate');\n",
              "      buttonEl.style.display =\n",
              "        google.colab.kernel.accessAllowed ? 'block' : 'none';\n",
              "\n",
              "      buttonEl.onclick = () => {\n",
              "        google.colab.notebook.generateWithVariable('df');\n",
              "      }\n",
              "      })();\n",
              "    </script>\n",
              "  </div>\n",
              "\n",
              "    </div>\n",
              "  </div>\n"
            ],
            "application/vnd.google.colaboratory.intrinsic+json": {
              "type": "dataframe",
              "variable_name": "df",
              "summary": "{\n  \"name\": \"df\",\n  \"rows\": 5,\n  \"fields\": [\n    {\n      \"column\": \"A\",\n      \"properties\": {\n        \"dtype\": \"number\",\n        \"std\": 1,\n        \"min\": 0,\n        \"max\": 4,\n        \"num_unique_values\": 4,\n        \"samples\": [\n          2,\n          4,\n          1\n        ],\n        \"semantic_type\": \"\",\n        \"description\": \"\"\n      }\n    },\n    {\n      \"column\": \"B\",\n      \"properties\": {\n        \"dtype\": \"number\",\n        \"std\": 4,\n        \"min\": 0,\n        \"max\": 9,\n        \"num_unique_values\": 4,\n        \"samples\": [\n          0,\n          9,\n          5\n        ],\n        \"semantic_type\": \"\",\n        \"description\": \"\"\n      }\n    }\n  ]\n}"
            }
          },
          "metadata": {},
          "execution_count": 35
        }
      ]
    },
    {
      "cell_type": "markdown",
      "source": [
        "26. Access the 3rd element from the given NumPy array arr = np.array([10, 20, 30, 40, 50])\n"
      ],
      "metadata": {
        "id": "CXxbJlZVCEzG"
      }
    },
    {
      "cell_type": "code",
      "source": [
        "import numpy as np\n",
        "arr=np.array([10,20,30,40,50])\n",
        "third_element=arr[2]\n",
        "print(third_element)"
      ],
      "metadata": {
        "colab": {
          "base_uri": "https://localhost:8080/"
        },
        "id": "GB5S2BW7ZV9b",
        "outputId": "775c0ea3-d310-4656-fff8-99ebc54e8bc1"
      },
      "execution_count": null,
      "outputs": [
        {
          "output_type": "stream",
          "name": "stdout",
          "text": [
            "30\n"
          ]
        }
      ]
    },
    {
      "cell_type": "markdown",
      "source": [
        "27.Retrieve the element at index (1, 2) from the 2D NumPy array\n",
        "arr_2d = np.array([[1, 2, 3],\n",
        "                   [4, 5, 6],\n",
        "                   [7, 8, 9]])"
      ],
      "metadata": {
        "id": "yOjP2cLSbFPu"
      }
    },
    {
      "cell_type": "code",
      "source": [
        "import numpy as np\n",
        "arr_2d=np.array([[1,2,3],\n",
        "                [4,5,6],\n",
        "                [7,8,9]])\n",
        "element=arr_2d[1,2]\n",
        "print(element)"
      ],
      "metadata": {
        "colab": {
          "base_uri": "https://localhost:8080/"
        },
        "id": "3Sd7Ec80bMRb",
        "outputId": "5c12c9f1-d7ae-44b0-adc2-a93ea8ac952d"
      },
      "execution_count": null,
      "outputs": [
        {
          "output_type": "stream",
          "name": "stdout",
          "text": [
            "6\n"
          ]
        }
      ]
    },
    {
      "cell_type": "markdown",
      "source": [
        "28.Using boolean indexing, extract elements greater than 5 from the given NumPy array arr = np.array([3, 8, 2, 10, 5, 7])"
      ],
      "metadata": {
        "id": "x4U2xKW1cei7"
      }
    },
    {
      "cell_type": "code",
      "source": [
        "import numpy as np\n",
        "arr=np.array([3,8,2,10,5,7])\n",
        "result=arr[arr>5]\n",
        "print(result)"
      ],
      "metadata": {
        "colab": {
          "base_uri": "https://localhost:8080/"
        },
        "id": "m8MVK4HLcggL",
        "outputId": "384e655c-1109-49ef-dc9f-bcc099253b03"
      },
      "execution_count": null,
      "outputs": [
        {
          "output_type": "stream",
          "name": "stdout",
          "text": [
            "[ 8 10  7]\n"
          ]
        }
      ]
    },
    {
      "cell_type": "markdown",
      "source": [
        "29. Perform basic slicing to extract elements from index 2 to 5 (inclusive) from the given NumPy array.\n",
        "arr = np.array([1, 2, 3, 4, 5, 6, 7, 8, 9])\n"
      ],
      "metadata": {
        "id": "W1iXsim3dYdu"
      }
    },
    {
      "cell_type": "code",
      "source": [
        "import numpy as np\n",
        "arr=np.array([1,2,3,4,5,6,7,8,9])\n",
        "result=arr[2:6]\n",
        "print(result)"
      ],
      "metadata": {
        "colab": {
          "base_uri": "https://localhost:8080/"
        },
        "id": "utnOAO9CdlJk",
        "outputId": "8aa989a8-5205-45d8-d429-a7fb5b213495"
      },
      "execution_count": null,
      "outputs": [
        {
          "output_type": "stream",
          "name": "stdout",
          "text": [
            "[3 4 5 6]\n"
          ]
        }
      ]
    },
    {
      "cell_type": "markdown",
      "source": [
        "30.Slice the 2D NumPy array to extract the sub-array `[[2, 3], [5, 6]]` from the given array.\n",
        "arr_2d = np.array([[1, 2, 3],\n",
        "                   [4, 5, 6],\n",
        "                   [7, 8, 9]])"
      ],
      "metadata": {
        "id": "6JgcTyckeBK3"
      }
    },
    {
      "cell_type": "code",
      "source": [
        "import numpy as np\n",
        "arr_2d=np.array([[1,2,3],\n",
        "                 [4,5,6],\n",
        "                 [7,8,9]])\n",
        "result=arr_2d[0:2,1:3]\n",
        "print(result)"
      ],
      "metadata": {
        "colab": {
          "base_uri": "https://localhost:8080/"
        },
        "id": "BNAo6mNyevQg",
        "outputId": "e58c0d04-7b24-4984-f562-f8e580ffff77"
      },
      "execution_count": null,
      "outputs": [
        {
          "output_type": "stream",
          "name": "stdout",
          "text": [
            "[[2 3]\n",
            " [5 6]]\n"
          ]
        }
      ]
    },
    {
      "cell_type": "markdown",
      "source": [
        "31..Write a NumPy function to extract elements in specific order from a given 2D array based on indices\n",
        "provided in another array."
      ],
      "metadata": {
        "id": "7MkJsJU_gI8z"
      }
    },
    {
      "cell_type": "code",
      "source": [
        "def extract_elements_by_indices(arr_2D, indices):\n",
        "    return arr_2D.ravel()[indices]\n",
        "arr_2D = np.array([[1, 2, 3],\n",
        "                   [4, 5, 6],\n",
        "                   [7, 8, 9]])\n",
        "indices = np.array([1, 4, 2, 5, 7])\n",
        "extract_elements_by_indices(arr_2D, indices)"
      ],
      "metadata": {
        "id": "JXYZmmaLiXw1",
        "colab": {
          "base_uri": "https://localhost:8080/"
        },
        "outputId": "5ebcc26f-2b81-4c37-eb96-cda2cae6648f"
      },
      "execution_count": 37,
      "outputs": [
        {
          "output_type": "execute_result",
          "data": {
            "text/plain": [
              "array([2, 5, 3, 6, 8])"
            ]
          },
          "metadata": {},
          "execution_count": 37
        }
      ]
    },
    {
      "cell_type": "markdown",
      "source": [
        "32.. Create a NumPy function that filters elements greater than a threshold from a given 1D array using\n",
        "boolean indexing."
      ],
      "metadata": {
        "id": "IxHizasXiYRD"
      }
    },
    {
      "cell_type": "code",
      "source": [
        "import numpy as np\n",
        "def filter_greater_than_threshold(arr,threshold):\n",
        "  filtered_array=arr[arr>threshold]\n",
        "  return filtered_array\n",
        "print(\"Enter elements:\")\n",
        "arr=np.array(list(map(float,input().split())))\n",
        "threshold=float(input(\"Enter threshold value:\"))\n",
        "filtered_result=filter_greater_than_threshold(arr,threshold)\n",
        "print(\"Filtered elements greather than\",threshold,\":\",filtered_result)\n",
        "\n"
      ],
      "metadata": {
        "colab": {
          "base_uri": "https://localhost:8080/"
        },
        "id": "dWxEdRmHgQrU",
        "outputId": "53f7c80c-6001-4e96-f86f-391a6851278f"
      },
      "execution_count": null,
      "outputs": [
        {
          "output_type": "stream",
          "name": "stdout",
          "text": [
            "Enter elements:\n",
            "1 2 3 4 5\n",
            "Enter threshold value:2\n",
            "Filtered elements greather than 2.0 : [3. 4. 5.]\n"
          ]
        }
      ]
    },
    {
      "cell_type": "markdown",
      "source": [
        "33. Develop a NumPy function that extracts specific elements from a 3D array using indices provided in three\n",
        "separate arrays for each dimension."
      ],
      "metadata": {
        "id": "mK_ysyR9noU_"
      }
    },
    {
      "cell_type": "code",
      "source": [
        "import numpy as np\n",
        "def extract_elements_3d(array, indices_dim1, indices_dim2, indices_dim3):\n",
        "   indices = (indices_dim1, indices_dim2, indices_dim3)\n",
        "   extracted_elements = array[indices]\n",
        "   return extracted_elements\n",
        "arr_3d = np.array([[[1, 2, 3], [4, 5, 6]], [[7, 8, 9], [10, 11, 12]]])\n",
        "indices_dim1 = np.array([0, 1])\n",
        "indices_dim2 = np.array([0, 1])\n",
        "indices_dim3 = np.array([1, 2])\n",
        "extract_elements_3d(arr_3d, indices_dim1, indices_dim2, indices_dim3)"
      ],
      "metadata": {
        "id": "kx5pkyB4nqtw",
        "colab": {
          "base_uri": "https://localhost:8080/"
        },
        "outputId": "56d4c6b9-5a12-415b-bb38-0a5ef84c3279"
      },
      "execution_count": 41,
      "outputs": [
        {
          "output_type": "execute_result",
          "data": {
            "text/plain": [
              "array([ 2, 12])"
            ]
          },
          "metadata": {},
          "execution_count": 41
        }
      ]
    },
    {
      "cell_type": "markdown",
      "source": [
        "34. Write a NumPy function that returns elements from an array where both two conditions are satisfied\n",
        "using boolean indexing."
      ],
      "metadata": {
        "id": "29iGqN_foNYO"
      }
    },
    {
      "cell_type": "code",
      "source": [
        "import numpy as np\n",
        "def elements_satisfying_conditions(arr, condition1, condition2):\n",
        "    return arr[np.logical_and(condition1, condition2)]\n",
        "arr = np.array([1, 2, 3, 4, 5, 6, 7, 8, 9,12,32,64])\n",
        "condition1 = arr > 3\n",
        "condition2 = arr % 2 == 0\n",
        "elements_satisfying_conditions(arr, condition1, condition2)"
      ],
      "metadata": {
        "id": "BjxduEvWoPEi",
        "colab": {
          "base_uri": "https://localhost:8080/"
        },
        "outputId": "baa96479-f70b-4870-fd33-1637c133d38a"
      },
      "execution_count": 42,
      "outputs": [
        {
          "output_type": "execute_result",
          "data": {
            "text/plain": [
              "array([ 4,  6,  8, 12, 32, 64])"
            ]
          },
          "metadata": {},
          "execution_count": 42
        }
      ]
    },
    {
      "cell_type": "markdown",
      "source": [
        "35. Create a NumPy function that extracts elements from a 2D array using row and column indices provided\n",
        "in separate arrays."
      ],
      "metadata": {
        "id": "Wf9zwYMXsNpr"
      }
    },
    {
      "cell_type": "code",
      "source": [
        "import numpy as np\n",
        "def extract_elements_2d(array, row_indices, col_indices):\n",
        "  arr=array[row_indices, col_indices]\n",
        "  return arr\n",
        "arr_2d = np.array([[1, 2, 3],\n",
        "                    [4, 5, 6],\n",
        "                    [7, 8, 9]])\n",
        "row_indices = np.array([0,1,2])\n",
        "col_indices = np.array([1,2,0])\n",
        "extract_elements_2d(arr_2d, row_indices, col_indices)"
      ],
      "metadata": {
        "id": "_NotSFG_sQlS",
        "colab": {
          "base_uri": "https://localhost:8080/"
        },
        "outputId": "235ec27f-d9df-4b85-d48e-3d6fe8f128ff"
      },
      "execution_count": 43,
      "outputs": [
        {
          "output_type": "execute_result",
          "data": {
            "text/plain": [
              "array([2, 6, 7])"
            ]
          },
          "metadata": {},
          "execution_count": 43
        }
      ]
    },
    {
      "cell_type": "markdown",
      "source": [
        "36.Given an array arr of shape (3, 3), add a scalar value of 5 to each element using NumPy broadcasting."
      ],
      "metadata": {
        "id": "At8ZyEouss2o"
      }
    },
    {
      "cell_type": "code",
      "source": [
        "import numpy as np\n",
        "print(\"enter 3x3 elements:\")\n",
        "elements=list(map(float,input().split()))\n",
        "arr=np.array(elements).reshape(3,3)\n",
        "result=arr+5\n",
        "print(\"original array:\")\n",
        "print(arr)\n",
        "print(\"after adding 5:\")\n",
        "print(result)"
      ],
      "metadata": {
        "colab": {
          "base_uri": "https://localhost:8080/"
        },
        "id": "kEoejfMSst7p",
        "outputId": "4ffbc385-2e76-4150-a26d-2146e023b156"
      },
      "execution_count": null,
      "outputs": [
        {
          "output_type": "stream",
          "name": "stdout",
          "text": [
            "enter 3x3 elements:\n",
            "1 2 3 4 5 6 7 8 9\n",
            "original array:\n",
            "[[1. 2. 3.]\n",
            " [4. 5. 6.]\n",
            " [7. 8. 9.]]\n",
            "after adding 5:\n",
            "[[ 6.  7.  8.]\n",
            " [ 9. 10. 11.]\n",
            " [12. 13. 14.]]\n"
          ]
        }
      ]
    },
    {
      "cell_type": "markdown",
      "source": [
        " 37.Consider two arrays arr1 of shape (1, 3) and arr2 of shape (3, 4). Multiply each row of arr2 by the\n",
        "corresponding element in arr1 using NumPy broadcasting."
      ],
      "metadata": {
        "id": "u9qwigYKxEhF"
      }
    },
    {
      "cell_type": "code",
      "source": [
        "import numpy as np\n",
        "arr1=np.array([[1,2,3]])\n",
        "arr2=np.array([[1,2,3,4],\n",
        "               [4,5,6,7],\n",
        "               [5,6,7,8]])\n",
        "arr_multi=arr1.T *arr2\n",
        "arr_multi"
      ],
      "metadata": {
        "id": "KgRzxwZPxGTX",
        "colab": {
          "base_uri": "https://localhost:8080/"
        },
        "outputId": "6d7c073d-b991-44a5-fdf4-51542f647c6b"
      },
      "execution_count": 44,
      "outputs": [
        {
          "output_type": "execute_result",
          "data": {
            "text/plain": [
              "array([[ 1,  2,  3,  4],\n",
              "       [ 8, 10, 12, 14],\n",
              "       [15, 18, 21, 24]])"
            ]
          },
          "metadata": {},
          "execution_count": 44
        }
      ]
    },
    {
      "cell_type": "markdown",
      "source": [
        "38. Given a 1D array arr1 of shape (1, 4) and a 2D array arr2 of shape (4, 3), add arr1 to each row of arr2 using\n",
        "NumPy broadcasting."
      ],
      "metadata": {
        "id": "SADTkKszxQh_"
      }
    },
    {
      "cell_type": "code",
      "source": [
        "import numpy as np\n",
        "arr1 = np.array([[1, 2, 3, 4]])\n",
        "arr2 = np.array([[1, 2, 3],\n",
        "                 [4, 5, 6],\n",
        "                 [7, 8, 9],\n",
        "                 [10, 11, 12]])\n",
        "arr_add=arr1.T+arr2\n",
        "arr_add"
      ],
      "metadata": {
        "id": "l68JuLKHxTmb",
        "colab": {
          "base_uri": "https://localhost:8080/"
        },
        "outputId": "85df15c1-318c-4f58-a496-52953e379fee"
      },
      "execution_count": 46,
      "outputs": [
        {
          "output_type": "execute_result",
          "data": {
            "text/plain": [
              "array([[ 2,  3,  4],\n",
              "       [ 6,  7,  8],\n",
              "       [10, 11, 12],\n",
              "       [14, 15, 16]])"
            ]
          },
          "metadata": {},
          "execution_count": 46
        }
      ]
    },
    {
      "cell_type": "markdown",
      "source": [
        "39. Consider two arrays arr1 of shape (3, 1) and arr2 of shape (1, 3). Add these arrays using NumPy\n",
        "broadcasting."
      ],
      "metadata": {
        "id": "cBZWdGMrxw8W"
      }
    },
    {
      "cell_type": "code",
      "source": [
        "import numpy as np\n",
        "print(\"Enter elements of arr1:\")\n",
        "arr1_elements=list(map(float,input().split()))\n",
        "print(\"Enter elements of arr2:\")\n",
        "arr2_elements=list(map(float,input().split()))\n",
        "arr1=np.array(arr1_elements).reshape(3,1)\n",
        "arr2=np.array(arr2_elements).reshape(1,3)\n",
        "result=arr1+arr2\n",
        "print(result)"
      ],
      "metadata": {
        "colab": {
          "base_uri": "https://localhost:8080/"
        },
        "id": "aRNzRWVYx0cy",
        "outputId": "169be0e1-b368-43f5-e5b9-b55085164871"
      },
      "execution_count": null,
      "outputs": [
        {
          "output_type": "stream",
          "name": "stdout",
          "text": [
            "Enter elements of arr1:\n",
            "1 2 3\n",
            "Enter elements of arr2:\n",
            "4 5 6\n",
            "[[5. 6. 7.]\n",
            " [6. 7. 8.]\n",
            " [7. 8. 9.]]\n"
          ]
        }
      ]
    },
    {
      "cell_type": "markdown",
      "source": [
        " 40.Given arrays arr1 of shape (2, 3) and arr2 of shape (2, 2), perform multiplication using NumPy\n",
        "broadcasting. Handle the shape incompatibility."
      ],
      "metadata": {
        "id": "Gc02UJGA2bx3"
      }
    },
    {
      "cell_type": "code",
      "source": [
        "import numpy as np\n",
        "arr1 = np.array([[1, 2, 3],\n",
        "                 [4, 5, 6]])\n",
        "arr2 = np.array([[1, 4],\n",
        "                 [4, 6]])\n",
        "arr2_reshaped = arr2[:,:, np.newaxis]\n",
        "arr_multi=arr2*arr2_reshaped\n",
        "arr_multi"
      ],
      "metadata": {
        "id": "0BgNNigY2g72",
        "colab": {
          "base_uri": "https://localhost:8080/"
        },
        "outputId": "faa1ffeb-04c6-4876-fd75-7d38499f2390"
      },
      "execution_count": 47,
      "outputs": [
        {
          "output_type": "execute_result",
          "data": {
            "text/plain": [
              "array([[[ 1,  4],\n",
              "        [16, 24]],\n",
              "\n",
              "       [[ 4, 16],\n",
              "        [24, 36]]])"
            ]
          },
          "metadata": {},
          "execution_count": 47
        }
      ]
    },
    {
      "cell_type": "markdown",
      "source": [
        "41.Calculate column wise mean for the given array:arr = np.array([[1, 2, 3], [4, 5, 6]])"
      ],
      "metadata": {
        "id": "i6AwqyVd2hzE"
      }
    },
    {
      "cell_type": "code",
      "source": [
        "import numpy as np\n",
        "arr=np.array([[1,2,3],[4,5,6]])\n",
        "col_mean=np.mean(arr,axis=0)\n",
        "print(\"column wise mean:\",col_mean)"
      ],
      "metadata": {
        "colab": {
          "base_uri": "https://localhost:8080/"
        },
        "id": "xsHZHY3Y5j5l",
        "outputId": "39f38938-4e74-478a-e487-39c2373a792e"
      },
      "execution_count": null,
      "outputs": [
        {
          "output_type": "stream",
          "name": "stdout",
          "text": [
            "column wise mean: [2.5 3.5 4.5]\n"
          ]
        }
      ]
    },
    {
      "cell_type": "markdown",
      "source": [
        " 42.Find maximum value in each row of the given array:\n",
        " arr = np.array([[1, 2, 3], [4, 5, 6]])"
      ],
      "metadata": {
        "id": "Aqxqom_p693A"
      }
    },
    {
      "cell_type": "code",
      "source": [
        "import numpy as np\n",
        "arr=np.array([[1,2,3],[4,5,6]])\n",
        "row_max=np.max(arr,axis=1)\n",
        "print(\"maximum value:\",row_max)"
      ],
      "metadata": {
        "colab": {
          "base_uri": "https://localhost:8080/"
        },
        "id": "-C8KxHi77CfY",
        "outputId": "9096a5c4-0585-4818-bc0d-80764edb6bb2"
      },
      "execution_count": null,
      "outputs": [
        {
          "output_type": "stream",
          "name": "stdout",
          "text": [
            "maximum value: [3 6]\n"
          ]
        }
      ]
    },
    {
      "cell_type": "markdown",
      "source": [
        "43.. For the given array, find indices of maximum value in each column.\n",
        "arr = np.array([[1, 2, 3], [4, 5, 6]])\n"
      ],
      "metadata": {
        "id": "k2J1X8VI7dwI"
      }
    },
    {
      "cell_type": "code",
      "source": [
        "import numpy as np\n",
        "arr=np.array([[1,2,3],[4,5,6]])\n",
        "row_max=np.argmax(arr,axis=0)\n",
        "print(\"indices of each column:\",row_max)"
      ],
      "metadata": {
        "colab": {
          "base_uri": "https://localhost:8080/"
        },
        "id": "H9lmvUhA78Tu",
        "outputId": "0cf7ccee-3827-46d7-dd80-1626b5425eb1"
      },
      "execution_count": null,
      "outputs": [
        {
          "output_type": "stream",
          "name": "stdout",
          "text": [
            "indices of each column: [1 1 1]\n"
          ]
        }
      ]
    },
    {
      "cell_type": "markdown",
      "source": [
        "44.. For the given array, apply custom function to calculate moving sum along rows.\n",
        "arr = np.array([[1, 2, 3], [4, 5, 6]])"
      ],
      "metadata": {
        "id": "k78CVCmf9lS3"
      }
    },
    {
      "cell_type": "code",
      "source": [
        "import numpy as np\n",
        "arr = np.array([[1, 2, 3], [4, 5, 6]])\n",
        "arr_max1=np.cumsum(arr,axis=0)\n",
        "arr_max1"
      ],
      "metadata": {
        "id": "gO2_cHT99q_G",
        "colab": {
          "base_uri": "https://localhost:8080/"
        },
        "outputId": "7ea9b31e-f9b1-4a4d-8342-8502050c317f"
      },
      "execution_count": 48,
      "outputs": [
        {
          "output_type": "execute_result",
          "data": {
            "text/plain": [
              "array([[1, 2, 3],\n",
              "       [5, 7, 9]])"
            ]
          },
          "metadata": {},
          "execution_count": 48
        }
      ]
    },
    {
      "cell_type": "markdown",
      "source": [
        " 45.In the given array, check if all elements in each column are even.arr = np.array([[2, 4, 6], [3, 5, 7]])"
      ],
      "metadata": {
        "id": "JutKv6ma-GLd"
      }
    },
    {
      "cell_type": "code",
      "source": [
        "import numpy as np\n",
        "arr=np.array([[1,2,3],[4,5,6]])\n",
        "columns=np.all(arr%2==0,axis=0)\n",
        "print(\"are all elements are even?\")\n",
        "print(columns)"
      ],
      "metadata": {
        "colab": {
          "base_uri": "https://localhost:8080/"
        },
        "id": "qlAZXA83-NrE",
        "outputId": "8652ba0f-46bf-40a5-8f41-a5ce1dc9277d"
      },
      "execution_count": null,
      "outputs": [
        {
          "output_type": "stream",
          "name": "stdout",
          "text": [
            "are all elements are even?\n",
            "[False False False]\n"
          ]
        }
      ]
    },
    {
      "cell_type": "markdown",
      "source": [
        "46.Given a NumPy array arr, reshape it into a matrix of dimensions `m` rows and `n` columns. Return the\n",
        "reshaped matrix.\n",
        "original_array = np.array([1, 2, 3, 4, 5, 6])"
      ],
      "metadata": {
        "id": "beI6DLn2L0jk"
      }
    },
    {
      "cell_type": "code",
      "source": [
        "import numpy as np\n",
        "original_array=np.array([1,2,3,4,5,6])\n",
        "m=int(input(\"Enter the no of rows(m):\"))\n",
        "n=int(input(\"Enter the no of columns(n):\"))\n",
        "if m*n==original_array.size:\n",
        "  reshapematrix=original_array.reshape(m,n)\n",
        "  print(\"reshape matrix:\")\n",
        "  print(reshapematrix)\n",
        "else:\n",
        "  print(\"The product of m and n must be equal to size of array.\")\n"
      ],
      "metadata": {
        "id": "5LEmK6tsM2QC",
        "colab": {
          "base_uri": "https://localhost:8080/"
        },
        "outputId": "a7df28b8-126e-4f63-fefc-2ebbc7760439"
      },
      "execution_count": null,
      "outputs": [
        {
          "output_type": "stream",
          "name": "stdout",
          "text": [
            "Enter the no of rows(m):2\n",
            "Enter the no of columns(n):3\n",
            "reshape matrix:\n",
            "[[1 2 3]\n",
            " [4 5 6]]\n"
          ]
        }
      ]
    },
    {
      "cell_type": "markdown",
      "source": [
        "47.Create a function that takes a matrix as input and returns the flattened array.input_matrix = np.array([[1, 2, 3], [4, 5, 6]])"
      ],
      "metadata": {
        "id": "jEDGhAUEbhWK"
      }
    },
    {
      "cell_type": "code",
      "source": [
        "import numpy as np\n",
        "def flatten_matrix(input_matrix):\n",
        "  flattened_array=input_matrix.flatten()\n",
        "  return flattened_array\n",
        "input_matrix=np.array([[1,2,3],[4,5,6]])\n",
        "flattened_array=flatten_matrix(input_matrix)\n",
        "print(flattened_array)"
      ],
      "metadata": {
        "colab": {
          "base_uri": "https://localhost:8080/"
        },
        "id": "RcttH1UXbidJ",
        "outputId": "a085b10c-232e-4981-e153-f6da3f552174"
      },
      "execution_count": null,
      "outputs": [
        {
          "output_type": "stream",
          "name": "stdout",
          "text": [
            "[1 2 3 4 5 6]\n"
          ]
        }
      ]
    },
    {
      "cell_type": "markdown",
      "source": [
        "48.Write a function that concatenates two given arrays along a specified axis.array1 = np.array([[1, 2], [3, 4]])\n",
        "array2 = np.array([[5, 6], [7, 8]])"
      ],
      "metadata": {
        "id": "VcgI_uspd8oF"
      }
    },
    {
      "cell_type": "code",
      "source": [
        "import numpy as np\n",
        "def concatenate_arrays(array1, array2, axis):\n",
        "  arr=np.concatenate((array1, array2), axis=axis)\n",
        "  return arr\n",
        "array1 = np.array([[1, 2], [3, 4]])\n",
        "array2 = np.array([[5, 6], [7, 8]])\n",
        "concatenate_arrays(array1, array2, axis=1)"
      ],
      "metadata": {
        "colab": {
          "base_uri": "https://localhost:8080/"
        },
        "id": "Sqs-ZOpRyPoP",
        "outputId": "11631b03-c752-4b16-ca3b-f562f615677c"
      },
      "execution_count": 51,
      "outputs": [
        {
          "output_type": "execute_result",
          "data": {
            "text/plain": [
              "array([[1, 2, 5, 6],\n",
              "       [3, 4, 7, 8]])"
            ]
          },
          "metadata": {},
          "execution_count": 51
        }
      ]
    },
    {
      "cell_type": "markdown",
      "source": [
        "49.Create a function that splits an array into multiple sub-arrays along a specified axis.original_array = np.array([[1, 2, 3], [4, 5, 6], [7, 8, 9]])"
      ],
      "metadata": {
        "id": "hGzlJ-JqfOov"
      }
    },
    {
      "cell_type": "code",
      "source": [
        "import numpy as np\n",
        "def splitarray(original_array,axis,num_splits):\n",
        "  return np.array_split(original_array,num_splits,axis=axis)\n",
        "original_array=np.array([[1,2,3],[4,5,6],[7,8,9]])\n",
        "print(\"Original array:\")\n",
        "print(original_array)\n",
        "axis=int(input(\"Enter axis(either 0 or 1):\"))\n",
        "num_splits=int(input(\"Enter the number of splits:\"))\n",
        "splitarrays=splitarray(original_array,axis=axis,num_splits=num_splits)\n",
        "print(\"Split arrays:\")\n",
        "for array in splitarrays:\n",
        "  print(array)\n",
        "\n",
        "\n",
        "\n",
        "\n"
      ],
      "metadata": {
        "colab": {
          "base_uri": "https://localhost:8080/"
        },
        "id": "-vNlUgPAfwYO",
        "outputId": "fd0d7452-56d7-4b0c-9cbb-56355b3e8b86"
      },
      "execution_count": null,
      "outputs": [
        {
          "output_type": "stream",
          "name": "stdout",
          "text": [
            "Original array:\n",
            "[[1 2 3]\n",
            " [4 5 6]\n",
            " [7 8 9]]\n",
            "Enter axis(either 0 or 1):1\n",
            "Enter the number of splits:3\n",
            "Split arrays:\n",
            "[[1]\n",
            " [4]\n",
            " [7]]\n",
            "[[2]\n",
            " [5]\n",
            " [8]]\n",
            "[[3]\n",
            " [6]\n",
            " [9]]\n"
          ]
        }
      ]
    },
    {
      "cell_type": "markdown",
      "source": [
        "50. Write a function that inserts and then deletes elements from a given array at specified indices.original_array = np.array([1, 2, 3, 4, 5])\n",
        " indices_to_insert = [2, 4]\n",
        " values_to_insert = [10, 11]\n",
        " indices_to_delete = [1, 3]"
      ],
      "metadata": {
        "id": "3WxLuY__uIcN"
      }
    },
    {
      "cell_type": "code",
      "source": [
        "import numpy as np\n",
        "def modify_array(original_array,indices_to_insert,values_to_insert,indices_to_delete):\n",
        "  modified_array=np.insert(original_array,indices_to_insert,values_to_insert)\n",
        "  modified_array=np.delete(modified_array,indices_to_delete)\n",
        "  return modified_array\n",
        "original_array=np.array([1,2,3,4,5])\n",
        "indices_to_insert=[2,4]\n",
        "values_to_insert=[10,11]\n",
        "indices_to_delete=[1,3]\n",
        "result_array=modify_array(original_array,indices_to_insert,values_to_insert,indices_to_delete)\n",
        "print(\"Resultant array:\",result_array)\n"
      ],
      "metadata": {
        "colab": {
          "base_uri": "https://localhost:8080/"
        },
        "id": "RPz9wW5FwxQl",
        "outputId": "70e76f33-2a7b-4c22-e2d6-256057e02079"
      },
      "execution_count": null,
      "outputs": [
        {
          "output_type": "stream",
          "name": "stdout",
          "text": [
            "Resultant array: [ 1 10  4 11  5]\n"
          ]
        }
      ]
    },
    {
      "cell_type": "markdown",
      "source": [
        "51. Create a NumPy array `arr1` with random integers and another array `arr2` with integers from 1 to 10.\n",
        "Perform element-wise addition between `arr1` and `arr2`."
      ],
      "metadata": {
        "id": "tMSU5XHMz5tT"
      }
    },
    {
      "cell_type": "code",
      "source": [
        "import numpy as np\n",
        "arr1=np.random.randint(0,10,size=10)\n",
        "arr2=np.arange(1,11)\n",
        "result_array=arr1+arr2\n",
        "print(\"Array arr1:\",arr1)\n",
        "print(\"Array arr2:\",arr2)\n",
        "print(\"Resultant array\",result_array)"
      ],
      "metadata": {
        "colab": {
          "base_uri": "https://localhost:8080/"
        },
        "id": "KMI5NHue0G5I",
        "outputId": "ed199456-7ac2-4692-a5a0-dea78c889371"
      },
      "execution_count": null,
      "outputs": [
        {
          "output_type": "stream",
          "name": "stdout",
          "text": [
            "Array arr1: [5 5 0 5 9 1 6 2 7 9]\n",
            "Array arr2: [ 1  2  3  4  5  6  7  8  9 10]\n",
            "Resultant array [ 6  7  3  9 14  7 13 10 16 19]\n"
          ]
        }
      ]
    },
    {
      "cell_type": "markdown",
      "source": [
        "52.Generate a NumPy array `arr1` with sequential integers from 10 to 1 and another array `arr2` with integers\n",
        "from 1 to 10. Subtract `arr2` from `arr1` element-wise."
      ],
      "metadata": {
        "id": "WWZ6NIYu0vl7"
      }
    },
    {
      "cell_type": "code",
      "source": [
        "import numpy as np\n",
        "arr1=np.arange(10,0,-1)\n",
        "arr2=np.arange(1,11)\n",
        "result_array=arr1-arr2\n",
        "print(\"Array arr1\",arr1)\n",
        "print(\"Array arr2\",arr2)\n",
        "print(\"Resultant array:\",result_array)"
      ],
      "metadata": {
        "colab": {
          "base_uri": "https://localhost:8080/"
        },
        "id": "mTywJDmW2FqM",
        "outputId": "1be0bebe-341a-4dbd-f674-f1570e82e984"
      },
      "execution_count": null,
      "outputs": [
        {
          "output_type": "stream",
          "name": "stdout",
          "text": [
            "Array arr1 [10  9  8  7  6  5  4  3  2  1]\n",
            "Array arr2 [ 1  2  3  4  5  6  7  8  9 10]\n",
            "Resultant array: [ 9  7  5  3  1 -1 -3 -5 -7 -9]\n"
          ]
        }
      ]
    },
    {
      "cell_type": "markdown",
      "source": [
        "53. Create a NumPy array `arr1` with random integers and another array `arr2` with integers from 1 to 5.\n",
        "Perform element-wise multiplication between `arr1` and `arr2`."
      ],
      "metadata": {
        "id": "XgONP_8R2hDT"
      }
    },
    {
      "cell_type": "code",
      "source": [
        "import numpy as np\n",
        "arr1=np.random.randint(0,10,size=5)\n",
        "arr2=np.arange(1,6)\n",
        "result_array=arr1*arr2\n",
        "print(\"Array arr1\",arr1)\n",
        "print(\"Array arr2\",arr2)\n",
        "print(\"Resultant array:\",result_array)"
      ],
      "metadata": {
        "colab": {
          "base_uri": "https://localhost:8080/"
        },
        "id": "fp-F7FIm2lpb",
        "outputId": "9bd7cb52-759e-4894-c557-76ba50a11c98"
      },
      "execution_count": null,
      "outputs": [
        {
          "output_type": "stream",
          "name": "stdout",
          "text": [
            "Array arr1 [9 6 7 4 0]\n",
            "Array arr2 [1 2 3 4 5]\n",
            "Resultant array: [ 9 12 21 16  0]\n"
          ]
        }
      ]
    },
    {
      "cell_type": "markdown",
      "source": [
        "54.Generate a NumPy array `arr1` with even integers from 2 to 10 and another array `arr2` with integers from 1\n",
        "to 5. Perform element-wise division of `arr1` by `arr2`."
      ],
      "metadata": {
        "id": "YcdExeZt5xZf"
      }
    },
    {
      "cell_type": "code",
      "source": [
        "import numpy as np\n",
        "arr1=np.arange(2,11,2)\n",
        "arr2=np.arange(1,6)\n",
        "result_array=arr1/arr2\n",
        "print(\"Array arr1:\",arr1)\n",
        "print(\"Array arr2:\",arr2)\n",
        "print(\"Resultant array:\",result_array)"
      ],
      "metadata": {
        "colab": {
          "base_uri": "https://localhost:8080/"
        },
        "id": "7ET4fm9w6IHo",
        "outputId": "d7de4518-8f42-42e6-e283-8beafaa15b58"
      },
      "execution_count": null,
      "outputs": [
        {
          "output_type": "stream",
          "name": "stdout",
          "text": [
            "Array arr1: [ 2  4  6  8 10]\n",
            "Array arr2: [1 2 3 4 5]\n",
            "Resultant array: [2. 2. 2. 2. 2.]\n"
          ]
        }
      ]
    },
    {
      "cell_type": "markdown",
      "source": [
        "55. Create a NumPy array `arr1` with integers from 1 to 5 and another array `arr2` with the same numbers\n",
        "reversed. Calculate the exponentiation of `arr1` raised to the power of `arr2` element-wise."
      ],
      "metadata": {
        "id": "BEM1lgmD9Pch"
      }
    },
    {
      "cell_type": "code",
      "source": [
        "import numpy as np\n",
        "arr1=np.arange(1,6)\n",
        "arr2=arr1[::-1]\n",
        "resultarray=np.power(arr1,arr2)\n",
        "print(\"Array arr1:\",arr1)\n",
        "print(\"Array arr2:\",arr2)\n",
        "print(\"Resultant array:\",resultarray)"
      ],
      "metadata": {
        "colab": {
          "base_uri": "https://localhost:8080/"
        },
        "id": "k_oS8E7B9aw7",
        "outputId": "ae75ff9b-0ada-4b88-a7f6-5ffe0e77f458"
      },
      "execution_count": null,
      "outputs": [
        {
          "output_type": "stream",
          "name": "stdout",
          "text": [
            "Array arr1: [1 2 3 4 5]\n",
            "Array arr2: [5 4 3 2 1]\n",
            "Resultant array: [ 1 16 27 16  5]\n"
          ]
        }
      ]
    },
    {
      "cell_type": "markdown",
      "source": [
        "56.Write a function that counts the occurrences of a specific substring within a NumPy array of strings.arr = np.array(['hello', 'world', 'hello', 'numpy', 'hello'])"
      ],
      "metadata": {
        "id": "5KnWxTP5-NQ_"
      }
    },
    {
      "cell_type": "code",
      "source": [
        "import numpy as np\n",
        "def count_substring_occurences(arr,substring):\n",
        "  count=0\n",
        "  for string in arr:\n",
        "    count +=string.count(substring)\n",
        "  return count\n",
        "arr=np.array(['hello','world','hello','numpy','hello'])\n",
        "substring='hello'\n",
        "occurences=count_substring_occurences(arr,substring)\n",
        "print(\"occurences of '{}' in the array: {}\".format(substring,occurences))\n"
      ],
      "metadata": {
        "colab": {
          "base_uri": "https://localhost:8080/"
        },
        "id": "bs_TcpOv-S62",
        "outputId": "21781e5d-7c55-4c07-afa9-5c2b79adee19"
      },
      "execution_count": null,
      "outputs": [
        {
          "output_type": "stream",
          "name": "stdout",
          "text": [
            "occurences of 'hello' in the array: 3\n"
          ]
        }
      ]
    },
    {
      "cell_type": "markdown",
      "source": [
        "57. Write a function that extracts uppercase characters from a NumPy array of strings.\n",
        "\n",
        "arr = np.array(['Hello', 'World', 'OpenAI', 'GPT'])"
      ],
      "metadata": {
        "id": "iqkAaC_u_Dnt"
      }
    },
    {
      "cell_type": "code",
      "source": [
        "import numpy as np\n",
        "def extract_uppercase_characters(arr):\n",
        "  uppercase_chars=''\n",
        "  for string in arr:\n",
        "    for char in string:\n",
        "      if char.isupper():\n",
        "        uppercase_chars+=char\n",
        "  return uppercase_chars\n",
        "arr=np.array([\"Hello\",\"World\",\"OpenAI\",'GPT'])\n",
        "uppercase_chars=extract_uppercase_characters(arr)\n",
        "print(\"Uppercase characters:\",uppercase_chars)"
      ],
      "metadata": {
        "colab": {
          "base_uri": "https://localhost:8080/"
        },
        "id": "V0me407k_Kp1",
        "outputId": "de136d93-c880-432c-9593-48d9ac411d59"
      },
      "execution_count": null,
      "outputs": [
        {
          "output_type": "stream",
          "name": "stdout",
          "text": [
            "Uppercase characters: HWOAIGPT\n"
          ]
        }
      ]
    },
    {
      "cell_type": "markdown",
      "source": [
        "58.Write a function that replaces occurrences of a substring in a NumPy array of strings with a new string.arr = np.array(['apple', 'banana', 'grape', 'pineapple'])"
      ],
      "metadata": {
        "id": "qRaeV1YaASdc"
      }
    },
    {
      "cell_type": "code",
      "source": [
        "import numpy as np\n",
        "def replace_substring(arr,old_substring,new_substring):\n",
        "  return np.char.replace(arr,old_substring,new_substring)\n",
        "arr=np.array(['apple','banana','grape','pineapple'])\n",
        "old_substring='apple'\n",
        "new_substring='orange'\n",
        "result_array=replace_substring(arr,old_substring,new_substring)\n",
        "print(\"original array\",arr)\n",
        "print(\"Resultant array\",result_array)"
      ],
      "metadata": {
        "colab": {
          "base_uri": "https://localhost:8080/"
        },
        "id": "sRpbv72H-oot",
        "outputId": "f559fe27-a94c-428b-d3e9-a1208b3a56e4"
      },
      "execution_count": null,
      "outputs": [
        {
          "output_type": "stream",
          "name": "stdout",
          "text": [
            "original array ['apple' 'banana' 'grape' 'pineapple']\n",
            "Resultant array ['orange' 'banana' 'grape' 'pineorange']\n"
          ]
        }
      ]
    },
    {
      "cell_type": "markdown",
      "source": [
        "59.. Write a function that concatenates strings in a NumPy array element-wise.arr1 = np.array(['Hello', 'World'])\n",
        "arr2 = np.array(['Open', 'AI'])"
      ],
      "metadata": {
        "id": "TRYH4FUQCjtE"
      }
    },
    {
      "cell_type": "code",
      "source": [
        "import numpy as np\n",
        "def concatenate_strings(arr1,arr2):\n",
        "  return np.char.add(arr1,arr2)\n",
        "arr1=np.array(['Hello','World'])\n",
        "arr2=np.array(['open','AI'])\n",
        "resultarray=concatenate_strings(arr1,arr2)\n",
        "print(\"Array arr1:\",arr1)\n",
        "print(\"Array arr2:\",arr2)\n",
        "print(\"Result array:\",resultarray)"
      ],
      "metadata": {
        "colab": {
          "base_uri": "https://localhost:8080/"
        },
        "id": "7VgPhsbSCuZf",
        "outputId": "6be29ad2-141d-47ad-d9f7-a869d543a505"
      },
      "execution_count": null,
      "outputs": [
        {
          "output_type": "stream",
          "name": "stdout",
          "text": [
            "Array arr1: ['Hello' 'World']\n",
            "Array arr2: ['open' 'AI']\n",
            "Result array: ['Helloopen' 'WorldAI']\n"
          ]
        }
      ]
    },
    {
      "cell_type": "markdown",
      "source": [
        "60. Write a function that finds the length of the longest string in a NumPy array.\n",
        "\n",
        "arr = np.array(['apple', 'banana', 'grape', 'pineapple'])\n",
        "\n",
        "\n",
        "\n"
      ],
      "metadata": {
        "id": "LDULKFFMEWgN"
      }
    },
    {
      "cell_type": "code",
      "source": [
        "import numpy as np\n",
        "def longest_string(arr):\n",
        "  string_length=np.vectorize(len)(arr)\n",
        "  return np.max(string_length)\n",
        "arr=np.array(['apple','banana','grape','pineapple'])\n",
        "longestlength=longest_string(arr)\n",
        "print(\"Length of longest string:\",longestlength)\n"
      ],
      "metadata": {
        "colab": {
          "base_uri": "https://localhost:8080/"
        },
        "id": "u_LZG3S2Ebvx",
        "outputId": "71b265c1-3212-49b1-ec16-ec1567775ac9"
      },
      "execution_count": null,
      "outputs": [
        {
          "output_type": "stream",
          "name": "stdout",
          "text": [
            "Length of longest string: 9\n"
          ]
        }
      ]
    },
    {
      "cell_type": "markdown",
      "source": [
        "61. Create a dataset of 100 random integers between 1 and 1000. Compute the mean, median, variance, and\n",
        "standard deviation of the dataset using NumPy's functions"
      ],
      "metadata": {
        "id": "IePdJnv3HMGu"
      }
    },
    {
      "cell_type": "code",
      "source": [
        "import numpy as np\n",
        "np.random.seed(42)\n",
        "dataset=np.random.randint(1,1001,size=100)\n",
        "mean=np.mean(dataset)\n",
        "median=np.median(dataset)\n",
        "variance=np.var(dataset)\n",
        "std_deviation=np.std(dataset)\n",
        "print(\"Mean:\",mean)\n",
        "print(\"Median:\",median)\n",
        "print('Variance:',variance)\n",
        "print(\"Standard Deviation:\",std_deviation)\n"
      ],
      "metadata": {
        "colab": {
          "base_uri": "https://localhost:8080/"
        },
        "id": "WxrdNcxuIC-N",
        "outputId": "9b293ebb-5f40-424c-f523-884812919143"
      },
      "execution_count": 1,
      "outputs": [
        {
          "output_type": "stream",
          "name": "stdout",
          "text": [
            "Mean: 474.79\n",
            "Median: 463.5\n",
            "Variance: 81245.46590000001\n",
            "Standard Deviation: 285.0359028262931\n"
          ]
        }
      ]
    },
    {
      "cell_type": "markdown",
      "source": [
        "62. Generate an array of 50 random numbers between 1 and 100. Find the 25th and 75th percentiles of the\n",
        "dataset."
      ],
      "metadata": {
        "id": "rVPfJdSKJ56V"
      }
    },
    {
      "cell_type": "code",
      "source": [
        "import numpy as np\n",
        "def calculate_percentile():\n",
        "  random_number=np.random.randint(1,101,size=50)\n",
        "  print(f\"Generated array of random numbers:{random_number}\")\n",
        "  percentile_25=np.percentile(random_number,25)\n",
        "  percentile_75=np.percentile(random_number,75)\n",
        "  print(f\"25th percentile:{percentile_25}\")\n",
        "  print(f\"75th percentile:{percentile_75}\")\n",
        "calculate_percentile()"
      ],
      "metadata": {
        "id": "Pq3RsSMAKRXP",
        "colab": {
          "base_uri": "https://localhost:8080/"
        },
        "outputId": "8168a83a-5733-474f-d040-fc529579af30"
      },
      "execution_count": null,
      "outputs": [
        {
          "output_type": "stream",
          "name": "stdout",
          "text": [
            "Generated array of random numbers:[ 45  77  26  73  68  73   4  16  85  38   7  92 100  55   4  51  72  74\n",
            "  64  51  42  99  53  59  70  18   8  89  57  88  56  11  76  45  94  53\n",
            "  72  59  76  81  70  34  92  35  82  24  26  16  58  38]\n",
            "25th percentile:35.75\n",
            "75th percentile:75.5\n"
          ]
        }
      ]
    },
    {
      "cell_type": "markdown",
      "source": [
        "63. Create two arrays representing two sets of variables. Compute the correlation coefficient between these\n",
        "arrays using NumPy's `corrcoef` function."
      ],
      "metadata": {
        "id": "gQFonAob2gXM"
      }
    },
    {
      "cell_type": "code",
      "source": [
        "import numpy as np\n",
        "arr1=np.array([1,2,3,4,5])\n",
        "arr2=np.array([2,4,6,8,10])\n",
        "correlation_matrix=np.corrcoef(arr1,arr2)\n",
        "correlation_coeffecient=correlation_matrix[0,1]\n",
        "print(correlation_coeffecient)"
      ],
      "metadata": {
        "colab": {
          "base_uri": "https://localhost:8080/"
        },
        "id": "5JWmZ-e42o8d",
        "outputId": "85a404ba-9ce3-4c95-becf-912c0123fe35"
      },
      "execution_count": null,
      "outputs": [
        {
          "output_type": "stream",
          "name": "stdout",
          "text": [
            "0.9999999999999999\n"
          ]
        }
      ]
    },
    {
      "cell_type": "markdown",
      "source": [
        "64. Create two matrices and perform matrix multiplication using NumPy's `dot` function.\n",
        "\n",
        "\n"
      ],
      "metadata": {
        "id": "rqcBpPWL5LYx"
      }
    },
    {
      "cell_type": "code",
      "source": [
        "import numpy as np\n",
        "matrix1=np.array([[1,2,3],[4,5,6]])\n",
        "matrix2=np.array([[7,8],[9,10],[11,12]])\n",
        "result=np.dot(matrix1,matrix2)\n",
        "print(result)\n"
      ],
      "metadata": {
        "colab": {
          "base_uri": "https://localhost:8080/"
        },
        "id": "NC0IYK_R5OhP",
        "outputId": "57ec9164-1f7e-4679-d71e-146ffb19bff4"
      },
      "execution_count": null,
      "outputs": [
        {
          "output_type": "stream",
          "name": "stdout",
          "text": [
            "[[ 58  64]\n",
            " [139 154]]\n"
          ]
        }
      ]
    },
    {
      "cell_type": "markdown",
      "source": [
        "65.Create an array of 50 integers between 10 and 1000. Calculate the 10th, 50th (median), and 90th\n",
        "percentiles along with the first and third quartiles."
      ],
      "metadata": {
        "id": "azzngkMo5uL5"
      }
    },
    {
      "cell_type": "code",
      "source": [
        "import numpy as np\n",
        "data=np.random.randint(10,1001,size=50)\n",
        "percentiles=np.percentile(data,[10,25,50,75,90])\n",
        "print(\"10th percentile:\",percentiles[0])\n",
        "print(\"25th percentile(Q1):\",percentiles[1])\n",
        "print(\"Median(50th percentile):\",percentiles[2])\n",
        "print(\"75th percentile:\",percentiles[3])\n",
        "print(\"90th percentile:\",percentiles[4])"
      ],
      "metadata": {
        "colab": {
          "base_uri": "https://localhost:8080/"
        },
        "id": "_MfSwDyH5xhi",
        "outputId": "eccf3570-7dc9-48b3-967b-9801176f1e36"
      },
      "execution_count": 1,
      "outputs": [
        {
          "output_type": "stream",
          "name": "stdout",
          "text": [
            "10th percentile: 147.2\n",
            "25th percentile(Q1): 246.5\n",
            "Median(50th percentile): 483.5\n",
            "75th percentile: 746.0\n",
            "90th percentile: 858.6\n"
          ]
        }
      ]
    },
    {
      "cell_type": "markdown",
      "source": [
        "66. Create a NumPy array of integers and find the index of a specific element"
      ],
      "metadata": {
        "id": "w3et-GdL728Z"
      }
    },
    {
      "cell_type": "code",
      "source": [
        "import numpy as np\n",
        "arr=np.array([1,2,3,4,5])\n",
        "element_to_find = 5\n",
        "index = np.where(arr == element_to_find)[0]\n",
        "print(\"Index of\", element_to_find, \":\", index)"
      ],
      "metadata": {
        "id": "zeFXwxQ476nd",
        "colab": {
          "base_uri": "https://localhost:8080/"
        },
        "outputId": "ff1aa462-929a-48c1-9130-2748b2dce7a6"
      },
      "execution_count": 53,
      "outputs": [
        {
          "output_type": "stream",
          "name": "stdout",
          "text": [
            "Index of 5 : [4]\n"
          ]
        }
      ]
    },
    {
      "cell_type": "markdown",
      "source": [
        "67. Generate a random NumPy array and sort it in ascending order"
      ],
      "metadata": {
        "id": "XC75MtDY_NBq"
      }
    },
    {
      "cell_type": "code",
      "source": [
        "import numpy as np\n",
        "random_array=np.random.randint(1,101,size=10)\n",
        "sorted_array=np.sort(random_array)\n",
        "print(\"Random array:\",random_array)\n",
        "print(\"sorted_array:\",sorted_array)"
      ],
      "metadata": {
        "colab": {
          "base_uri": "https://localhost:8080/"
        },
        "id": "ui5VPLLC_P_E",
        "outputId": "20a3d001-88ea-453f-8e5e-81fd7cb0dacb"
      },
      "execution_count": null,
      "outputs": [
        {
          "output_type": "stream",
          "name": "stdout",
          "text": [
            "Random array: [18 74 49 19 79  2 60  6 76 29]\n",
            "sorted_array: [ 2  6 18 19 29 49 60 74 76 79]\n"
          ]
        }
      ]
    },
    {
      "cell_type": "markdown",
      "source": [
        "68. Filter elements >20  in the given NumPy array.\n",
        "arr = np.array([12, 25, 6, 42, 8, 30])"
      ],
      "metadata": {
        "id": "fe9bHECm_zyR"
      }
    },
    {
      "cell_type": "code",
      "source": [
        "import numpy as np\n",
        "arr=np.array([(12,25,6,42,8,30)])\n",
        "filteredarray=arr[arr>20]\n",
        "print(filteredarray)"
      ],
      "metadata": {
        "id": "jI01kyYeAANg",
        "colab": {
          "base_uri": "https://localhost:8080/"
        },
        "outputId": "949cf330-effb-45a7-a580-f24144a40d40"
      },
      "execution_count": 2,
      "outputs": [
        {
          "output_type": "stream",
          "name": "stdout",
          "text": [
            "[25 42 30]\n"
          ]
        }
      ]
    },
    {
      "cell_type": "markdown",
      "source": [
        "69.Filter elements which are divisible by 3 from a given NumPy array.\n",
        "arr = np.array([1, 5, 8, 12, 15])"
      ],
      "metadata": {
        "id": "W5K4qPmcsD3D"
      }
    },
    {
      "cell_type": "code",
      "source": [
        "import numpy as np\n",
        "arr=np.array([1,5,8,12,15])\n",
        "filteredarray=arr[arr%3==0]\n",
        "print(filteredarray)"
      ],
      "metadata": {
        "colab": {
          "base_uri": "https://localhost:8080/"
        },
        "id": "9B7RcdxNsNMT",
        "outputId": "57043b63-e217-4c52-957b-d1863a41a811"
      },
      "execution_count": 3,
      "outputs": [
        {
          "output_type": "stream",
          "name": "stdout",
          "text": [
            "[12 15]\n"
          ]
        }
      ]
    },
    {
      "cell_type": "markdown",
      "source": [
        "70.Filter elements which are ≥ 20 and ≤ 40 from a given NumPy array.\n",
        "arr = np.array([10, 20, 30, 40, 50])"
      ],
      "metadata": {
        "id": "INzjnJXFseUs"
      }
    },
    {
      "cell_type": "code",
      "source": [
        "import numpy as np\n",
        "arr=np.array([10,20,30,40,50])\n",
        "filteredarray=arr[(arr>=20) & (arr<=40)]\n",
        "print(filteredarray)"
      ],
      "metadata": {
        "colab": {
          "base_uri": "https://localhost:8080/"
        },
        "id": "32eIcf7PtXtG",
        "outputId": "bfd50b66-d565-42b2-a5ad-31d00d413e26"
      },
      "execution_count": 4,
      "outputs": [
        {
          "output_type": "stream",
          "name": "stdout",
          "text": [
            "[20 30 40]\n"
          ]
        }
      ]
    },
    {
      "cell_type": "markdown",
      "source": [
        "71.For the given NumPy array, check its byte order using the `dtype` attribute byteorder.\n",
        "arr = np.array([1, 2, 3])"
      ],
      "metadata": {
        "id": "37_zpr97t7QU"
      }
    },
    {
      "cell_type": "code",
      "source": [
        "import numpy as np\n",
        "arr = np.array([1, 2, 3])\n",
        "arr_4=np.byte(arr)\n",
        "byte_order = arr.dtype.byteorder\n",
        "print(\"Byte order:\", byte_order)"
      ],
      "metadata": {
        "colab": {
          "base_uri": "https://localhost:8080/"
        },
        "id": "xjGG2qZc0TDx",
        "outputId": "f64f18cb-669f-4acf-b3e0-ecda6f4556e9"
      },
      "execution_count": 58,
      "outputs": [
        {
          "output_type": "stream",
          "name": "stdout",
          "text": [
            "Byte order: =\n"
          ]
        }
      ]
    },
    {
      "cell_type": "markdown",
      "source": [
        "72.For the given NumPy array, perform byte swapping in place using `byteswap()`.arr = np.array([1, 2, 3], dtype=np.int32)\n"
      ],
      "metadata": {
        "id": "ISmWDaBDvByZ"
      }
    },
    {
      "cell_type": "code",
      "source": [
        "import numpy as np\n",
        "arr = np.array([1, 2, 3], dtype=np.int32)\n",
        "arr1=arr.byteswap(True)\n",
        "arr1"
      ],
      "metadata": {
        "colab": {
          "base_uri": "https://localhost:8080/"
        },
        "id": "Sl9byHpd0dEC",
        "outputId": "78a3d531-5d8e-49bf-c597-ce9168887879"
      },
      "execution_count": 59,
      "outputs": [
        {
          "output_type": "execute_result",
          "data": {
            "text/plain": [
              "array([16777216, 33554432, 50331648], dtype=int32)"
            ]
          },
          "metadata": {},
          "execution_count": 59
        }
      ]
    },
    {
      "cell_type": "markdown",
      "source": [
        "73.For the given NumPy array, swap its byte order without modifying the original array using\n",
        "`newbyteorder()`.arr = np.array([1, 2, 3], dtype=np.int32)"
      ],
      "metadata": {
        "id": "x5io8A4t0j-Y"
      }
    },
    {
      "cell_type": "code",
      "source": [
        "import numpy as np\n",
        "arr = np.array([1, 2, 3], dtype=np.int32)\n",
        "arr1=arr.newbyteorder()\n",
        "arr1"
      ],
      "metadata": {
        "colab": {
          "base_uri": "https://localhost:8080/"
        },
        "id": "Skq3Ls7e0vJ-",
        "outputId": "54f2d96d-efa3-4e38-d6b5-0db41b208e8d"
      },
      "execution_count": 60,
      "outputs": [
        {
          "output_type": "execute_result",
          "data": {
            "text/plain": [
              "array([16777216, 33554432, 50331648], dtype='>i4')"
            ]
          },
          "metadata": {},
          "execution_count": 60
        }
      ]
    },
    {
      "cell_type": "markdown",
      "source": [
        "74. For the given NumPy array and swap its byte order conditionally based on system endianness using\n",
        "`newbyteorder()`.arr = np.array([1, 2, 3], dtype=np.int32)"
      ],
      "metadata": {
        "id": "bCxcI2OAwE_j"
      }
    },
    {
      "cell_type": "code",
      "source": [
        "import numpy as np\n",
        "rr = np.array([1, 2, 3], dtype=np.int32)\n",
        "arr1=arr.byteswap(True)\n",
        "arr2=arr.newbyteorder()\n",
        "arr2"
      ],
      "metadata": {
        "colab": {
          "base_uri": "https://localhost:8080/"
        },
        "id": "ZJtixl1swLG0",
        "outputId": "6f37e90f-6025-446e-e7c1-7ebec7597024"
      },
      "execution_count": 61,
      "outputs": [
        {
          "output_type": "execute_result",
          "data": {
            "text/plain": [
              "array([1, 2, 3], dtype='>i4')"
            ]
          },
          "metadata": {},
          "execution_count": 61
        }
      ]
    },
    {
      "cell_type": "markdown",
      "source": [
        "75.For the given NumPy array, check if byte swapping is necessary for the current system using `dtype`\n",
        "attribute `byteorder`.arr = np.array([1, 2, 3], dtype=np.int32)"
      ],
      "metadata": {
        "id": "ZSemgqFBwulX"
      }
    },
    {
      "cell_type": "code",
      "source": [
        "import numpy as np\n",
        "arr = np.array([1, 2, 3], dtype=np.int32)\n",
        "arr1=arr.dtype.byteorder\n",
        "arr1"
      ],
      "metadata": {
        "colab": {
          "base_uri": "https://localhost:8080/",
          "height": 35
        },
        "id": "OMGCZlmcwy56",
        "outputId": "e885634d-b726-4bd7-b651-1952e34ace26"
      },
      "execution_count": 62,
      "outputs": [
        {
          "output_type": "execute_result",
          "data": {
            "text/plain": [
              "'='"
            ],
            "application/vnd.google.colaboratory.intrinsic+json": {
              "type": "string"
            }
          },
          "metadata": {},
          "execution_count": 62
        }
      ]
    },
    {
      "cell_type": "markdown",
      "source": [
        "76.Create a NumPy array `arr1` with values from 1 to 10. Create a copy of `arr1` named `copy_arr` and modify\n",
        "an element in `copy_arr`. Check if modifying `copy_arr` affects `arr1`."
      ],
      "metadata": {
        "id": "E7ql-DEJw_PC"
      }
    },
    {
      "cell_type": "code",
      "source": [
        "import numpy as np\n",
        "arr1=np.arange(1,11)\n",
        "copy_arr=arr1.copy()\n",
        "copy_arr[0]=100\n",
        "print(\"Original array:\")\n",
        "print(arr1)\n",
        "print(\"Modified array:\")\n",
        "print(copy_arr)\n",
        "if np.array_equal(arr1,copy_arr):\n",
        "  print(\"Yes,Modifying arr1 affects copy_arr\")\n",
        "else:\n",
        "  print(\"No,Modifying arr1 doesnot affect copy_arr\")"
      ],
      "metadata": {
        "colab": {
          "base_uri": "https://localhost:8080/"
        },
        "id": "Qv72ETZmxA3H",
        "outputId": "d8bf3a25-7dd5-4af3-e344-26fb63eee72d"
      },
      "execution_count": 5,
      "outputs": [
        {
          "output_type": "stream",
          "name": "stdout",
          "text": [
            "Original array:\n",
            "[ 1  2  3  4  5  6  7  8  9 10]\n",
            "Modified array:\n",
            "[100   2   3   4   5   6   7   8   9  10]\n",
            "No,Modifying arr1 doesnot affect copy_arr\n"
          ]
        }
      ]
    },
    {
      "cell_type": "markdown",
      "source": [
        "77.Create a 2D NumPy array `matrix` of shape (3, 3) with random integers. Extract a slice `view_slice` from\n",
        "the matrix. Modify an element in `view_slice` and observe if it changes the original `matrix`."
      ],
      "metadata": {
        "id": "VnaIQbNYzBJa"
      }
    },
    {
      "cell_type": "code",
      "source": [
        "import numpy as np\n",
        "matrix=np.random.randint(1,10,(3,3))\n",
        "print(\"Original matrix:\")\n",
        "print(matrix)\n",
        "view_slice=matrix[1:,1:]\n",
        "print(\"View_Slice:\")\n",
        "print(view_slice)\n",
        "view_slice[0,0]=100\n",
        "print(\"Modified view_slice:\")\n",
        "print(matrix)\n",
        "\n"
      ],
      "metadata": {
        "colab": {
          "base_uri": "https://localhost:8080/"
        },
        "id": "7AVw7EIfzE6o",
        "outputId": "97e23e19-4296-4246-e318-37c148568fd5"
      },
      "execution_count": 7,
      "outputs": [
        {
          "output_type": "stream",
          "name": "stdout",
          "text": [
            "Original matrix:\n",
            "[[6 5 8]\n",
            " [5 7 4]\n",
            " [5 1 7]]\n",
            "View_Slice:\n",
            "[[7 4]\n",
            " [1 7]]\n",
            "Modified view_slice:\n",
            "[[  6   5   8]\n",
            " [  5 100   4]\n",
            " [  5   1   7]]\n"
          ]
        }
      ]
    },
    {
      "cell_type": "markdown",
      "source": [
        "78. Create a NumPy array `array_a` of shape (4, 3) with sequential integers from 1 to 12. Extract a slice\n",
        "`view_b` from `array_a` and broadcast the addition of 5 to view_b. Check if it alters the original `array_a`."
      ],
      "metadata": {
        "id": "8--YcErqEOcY"
      }
    },
    {
      "cell_type": "code",
      "source": [
        "import numpy as np\n",
        "array_a=np.arange(1,13).reshape(4,3)\n",
        "print(\"Original array:\")\n",
        "print(array_a)\n",
        "view_b=array_a[1:3,1:3]\n",
        "print(\"View_b\")\n",
        "print(view_b)\n",
        "view_b+=5\n",
        "print(\"Modified view_b:\")\n",
        "print(view_b)\n",
        "print(\"Original array after modification:\")\n",
        "print(array_a)"
      ],
      "metadata": {
        "colab": {
          "base_uri": "https://localhost:8080/"
        },
        "id": "ASaTWlXuETap",
        "outputId": "4dbd52c5-e97e-4b54-b20d-2884bc87c7bb"
      },
      "execution_count": 8,
      "outputs": [
        {
          "output_type": "stream",
          "name": "stdout",
          "text": [
            "Original array:\n",
            "[[ 1  2  3]\n",
            " [ 4  5  6]\n",
            " [ 7  8  9]\n",
            " [10 11 12]]\n",
            "View_b\n",
            "[[5 6]\n",
            " [8 9]]\n",
            "Modified view_b:\n",
            "[[10 11]\n",
            " [13 14]]\n",
            "Original array after modification:\n",
            "[[ 1  2  3]\n",
            " [ 4 10 11]\n",
            " [ 7 13 14]\n",
            " [10 11 12]]\n"
          ]
        }
      ]
    },
    {
      "cell_type": "markdown",
      "source": [
        "79. Create a NumPy array `orig_array` of shape (2, 4) with values from 1 to 8. Create a reshaped view\n",
        "`reshaped_view` of shape (4, 2) from orig_array. Modify an element in `reshaped_view` and check if it\n",
        "reflects changes in the original `orig_array`."
      ],
      "metadata": {
        "id": "LLTCn9hZH3Lw"
      }
    },
    {
      "cell_type": "code",
      "source": [
        "import numpy as np\n",
        "orig_array=np.arange(1,9).reshape(2,4)\n",
        "print(\"Original array:\")\n",
        "print(orig_array)\n",
        "reshaped_view=orig_array.reshape(4,2)\n",
        "print(\"reshaped view:\")\n",
        "print(reshaped_view)\n",
        "reshaped_view[0,0]=100\n",
        "print(\"Modified reshaped view:\")\n",
        "print(reshaped_view)\n",
        "print(\"original array:\")\n",
        "print(orig_array)"
      ],
      "metadata": {
        "colab": {
          "base_uri": "https://localhost:8080/"
        },
        "id": "uNKsA5y-H4Nu",
        "outputId": "2845edf0-732e-4a98-bfb1-b7747667dedc"
      },
      "execution_count": 11,
      "outputs": [
        {
          "output_type": "stream",
          "name": "stdout",
          "text": [
            "Original array:\n",
            "[[1 2 3 4]\n",
            " [5 6 7 8]]\n",
            "reshaped view:\n",
            "[[1 2]\n",
            " [3 4]\n",
            " [5 6]\n",
            " [7 8]]\n",
            "Modified reshaped view:\n",
            "[[100   2]\n",
            " [  3   4]\n",
            " [  5   6]\n",
            " [  7   8]]\n",
            "original array:\n",
            "[[100   2   3   4]\n",
            " [  5   6   7   8]]\n"
          ]
        }
      ]
    },
    {
      "cell_type": "markdown",
      "source": [
        "80. Create a NumPy array `data` of shape (3, 4) with random integers. Extract a copy `data_copy` of\n",
        "elements greater than 5. Modify an element in `data_copy` and verify if it affects the original `data`."
      ],
      "metadata": {
        "id": "E_4dBRtrMy8G"
      }
    },
    {
      "cell_type": "code",
      "source": [
        "import numpy as np\n",
        "data=np.random.randint(1,10,size=(3,4))\n",
        "print(\"original data:\")\n",
        "print(data)\n",
        "data_copy=np.copy(data[data>5])\n",
        "print(\"copy data elements greater than 5:\")\n",
        "print(data_copy)\n",
        "if data_copy.size>0:\n",
        "  data_copy[0]=100\n",
        "print(\"Modified data:\")\n",
        "print(data_copy)\n",
        "print(\"original data after modification check:\")\n",
        "print(data)\n"
      ],
      "metadata": {
        "colab": {
          "base_uri": "https://localhost:8080/"
        },
        "id": "kR5ctMzTM20c",
        "outputId": "c66496cf-3ddc-466f-bc91-c4c1053b3f80"
      },
      "execution_count": 12,
      "outputs": [
        {
          "output_type": "stream",
          "name": "stdout",
          "text": [
            "original data:\n",
            "[[4 9 4 7]\n",
            " [4 4 6 6]\n",
            " [3 2 6 1]]\n",
            "copy data elements greater than 5:\n",
            "[9 7 6 6 6]\n",
            "Modified data:\n",
            "[100   7   6   6   6]\n",
            "original data after modification check:\n",
            "[[4 9 4 7]\n",
            " [4 4 6 6]\n",
            " [3 2 6 1]]\n"
          ]
        }
      ]
    },
    {
      "cell_type": "markdown",
      "source": [
        "81.Create two matrices A and B of identical shape containing integers and perform addition and subtraction\n",
        "operations between them."
      ],
      "metadata": {
        "id": "mJT0EI-NPCwF"
      }
    },
    {
      "cell_type": "code",
      "source": [
        "import numpy as np\n",
        "A=np.array([[1,2,3,4],[5,6,7,8],[9,10,11,12]])\n",
        "B=np.array(([11,12,13,14],[15,16,17,18],[19,20,21,22]))\n",
        "print(\"Matrix A:\")\n",
        "print(A)\n",
        "print('Matrix B:')\n",
        "print(B)\n",
        "addition_result=A+B\n",
        "print(\"Addition result:\")\n",
        "print(addition_result)\n",
        "subtraction_result=A-B\n",
        "print(\"Subtraction result:\")\n",
        "print(subtraction_result)"
      ],
      "metadata": {
        "colab": {
          "base_uri": "https://localhost:8080/"
        },
        "id": "iFkwE_76eoH8",
        "outputId": "00e261d1-5184-4d94-9346-1e22c438faab"
      },
      "execution_count": 13,
      "outputs": [
        {
          "output_type": "stream",
          "name": "stdout",
          "text": [
            "Matrix A:\n",
            "[[ 1  2  3  4]\n",
            " [ 5  6  7  8]\n",
            " [ 9 10 11 12]]\n",
            "Matrix B:\n",
            "[[11 12 13 14]\n",
            " [15 16 17 18]\n",
            " [19 20 21 22]]\n",
            "Addition result:\n",
            "[[12 14 16 18]\n",
            " [20 22 24 26]\n",
            " [28 30 32 34]]\n",
            "Subtraction result:\n",
            "[[-10 -10 -10 -10]\n",
            " [-10 -10 -10 -10]\n",
            " [-10 -10 -10 -10]]\n"
          ]
        }
      ]
    },
    {
      "cell_type": "markdown",
      "source": [
        "82. Generate two matrices `C` (3x2) and `D` (2x4) and perform matrix multiplication"
      ],
      "metadata": {
        "id": "zCRA5RBShL9Y"
      }
    },
    {
      "cell_type": "code",
      "source": [
        "import numpy as np\n",
        "c=np.array([[1,2],[3,4],[5,6]])\n",
        "d=np.array([[1,2,3,4],[5,6,7,8]])\n",
        "print(\"Matrix C:\")\n",
        "print(c)\n",
        "print(\"Matrix D:\")\n",
        "print(d)\n",
        "result=c@d\n",
        "print(\"result:\")\n",
        "print(result)\n"
      ],
      "metadata": {
        "colab": {
          "base_uri": "https://localhost:8080/"
        },
        "id": "Z129eoH_hQn6",
        "outputId": "846254d4-c973-4c3d-aac8-17954000cd80"
      },
      "execution_count": 16,
      "outputs": [
        {
          "output_type": "stream",
          "name": "stdout",
          "text": [
            "Matrix C:\n",
            "[[1 2]\n",
            " [3 4]\n",
            " [5 6]]\n",
            "Matrix D:\n",
            "[[1 2 3 4]\n",
            " [5 6 7 8]]\n",
            "result:\n",
            "[[11 14 17 20]\n",
            " [23 30 37 44]\n",
            " [35 46 57 68]]\n"
          ]
        }
      ]
    },
    {
      "cell_type": "markdown",
      "source": [
        "83.Create a matrix `E` and find its transpose."
      ],
      "metadata": {
        "id": "me3PfvWfi9zL"
      }
    },
    {
      "cell_type": "code",
      "source": [
        "import numpy as np\n",
        "E=np.array([[1,2,3],[4,5,6],[7,8,9]])\n",
        "print(\"Matrix E:\")\n",
        "print(E)\n",
        "E_transpose=np.transpose(E)\n",
        "print(\"Transpose:\")\n",
        "print(E_transpose)"
      ],
      "metadata": {
        "colab": {
          "base_uri": "https://localhost:8080/"
        },
        "id": "z0GWqdzWi_H1",
        "outputId": "ab68c6ab-9c3a-4760-bcfd-de8aebb4a14b"
      },
      "execution_count": 17,
      "outputs": [
        {
          "output_type": "stream",
          "name": "stdout",
          "text": [
            "Matrix E:\n",
            "[[1 2 3]\n",
            " [4 5 6]\n",
            " [7 8 9]]\n",
            "Transpose:\n",
            "[[1 4 7]\n",
            " [2 5 8]\n",
            " [3 6 9]]\n"
          ]
        }
      ]
    },
    {
      "cell_type": "markdown",
      "source": [
        "84.Generate a square matrix `F` and compute its determinant."
      ],
      "metadata": {
        "id": "5zgS3JdbkCPZ"
      }
    },
    {
      "cell_type": "code",
      "source": [
        "import numpy as np\n",
        "F=np.array([[4,2,3],[3,5,7],[8,1,6]])\n",
        "print(\"Matrix F:\")\n",
        "print(F)\n",
        "determinant=np.linalg.det(F)\n",
        "print(\"determinant:\")\n",
        "print(determinant)"
      ],
      "metadata": {
        "colab": {
          "base_uri": "https://localhost:8080/"
        },
        "id": "Yi3WZ66wkGKz",
        "outputId": "f09c1eaf-ab49-4489-c739-d202bfd5ed9f"
      },
      "execution_count": 20,
      "outputs": [
        {
          "output_type": "stream",
          "name": "stdout",
          "text": [
            "Matrix F:\n",
            "[[4 2 3]\n",
            " [3 5 7]\n",
            " [8 1 6]]\n",
            "determinant:\n",
            "57.00000000000001\n"
          ]
        }
      ]
    },
    {
      "cell_type": "markdown",
      "source": [
        "85.Create a square matrix `G` and find its inverse."
      ],
      "metadata": {
        "id": "OVn_nTFllgFm"
      }
    },
    {
      "cell_type": "code",
      "source": [
        "import numpy as np\n",
        "arr=np.random.randint(1,10,(3,3))\n",
        "arr_inv = np.linalg.inv(arr)\n",
        "arr_inv"
      ],
      "metadata": {
        "colab": {
          "base_uri": "https://localhost:8080/"
        },
        "id": "tqyV-KiOlmUC",
        "outputId": "8bc00d69-6818-4ee1-ba3b-6ee33c29e219"
      },
      "execution_count": 57,
      "outputs": [
        {
          "output_type": "execute_result",
          "data": {
            "text/plain": [
              "array([[-0.10526316,  0.26315789, -0.05263158],\n",
              "       [-0.42982456,  0.3245614 ,  0.20175439],\n",
              "       [ 0.29824561, -0.24561404, -0.01754386]])"
            ]
          },
          "metadata": {},
          "execution_count": 57
        }
      ]
    }
  ]
}