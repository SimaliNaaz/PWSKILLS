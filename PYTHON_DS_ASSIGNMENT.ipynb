{
  "nbformat": 4,
  "nbformat_minor": 0,
  "metadata": {
    "colab": {
      "provenance": [],
      "authorship_tag": "ABX9TyPSISNVo1CY4GQfnoyYQo5O",
      "include_colab_link": true
    },
    "kernelspec": {
      "name": "python3",
      "display_name": "Python 3"
    },
    "language_info": {
      "name": "python"
    }
  },
  "cells": [
    {
      "cell_type": "markdown",
      "metadata": {
        "id": "view-in-github",
        "colab_type": "text"
      },
      "source": [
        "<a href=\"https://colab.research.google.com/github/SimaliNaaz/PWSKILLS/blob/main/PYTHON_DS_ASSIGNMENT.ipynb\" target=\"_parent\"><img src=\"https://colab.research.google.com/assets/colab-badge.svg\" alt=\"Open In Colab\"/></a>"
      ]
    },
    {
      "cell_type": "code",
      "execution_count": null,
      "metadata": {
        "id": "91CE9pra7DB-"
      },
      "outputs": [],
      "source": []
    },
    {
      "cell_type": "markdown",
      "source": [
        "Q1. Explain with an example each when to use a for loop and a while loop."
      ],
      "metadata": {
        "id": "c7OqMG2B7c2V"
      }
    },
    {
      "cell_type": "markdown",
      "source": [
        "When to use a for loop:\n",
        "A for loop is used when you know the number of iterations in advance or when you want to iterate over a sequence (e.g., list, tuple, string, range)."
      ],
      "metadata": {
        "id": "zmX1ysc07dy7"
      }
    },
    {
      "cell_type": "code",
      "source": [
        "# Print numbers from 1 to 5\n",
        "for i in range(1, 6):\n",
        "    print(i)"
      ],
      "metadata": {
        "colab": {
          "base_uri": "https://localhost:8080/"
        },
        "id": "XMnRHLh_7g-O",
        "outputId": "c3f49044-80e8-4698-8bd0-537cbcfacf49"
      },
      "execution_count": 1,
      "outputs": [
        {
          "output_type": "stream",
          "name": "stdout",
          "text": [
            "1\n",
            "2\n",
            "3\n",
            "4\n",
            "5\n"
          ]
        }
      ]
    },
    {
      "cell_type": "markdown",
      "source": [
        "When to use a while loop:\n",
        "A while loop is used when the number of iterations is not known in advance, and the loop continues until a specific condition is met"
      ],
      "metadata": {
        "id": "rts92WH67kj2"
      }
    },
    {
      "cell_type": "code",
      "source": [
        "# Print numbers until the user enters 0\n",
        "num = 1\n",
        "while num != 0:\n",
        "    num = int(input(\"Enter a number (0 to stop): \"))\n",
        "    print(\"You entered:\", num)"
      ],
      "metadata": {
        "colab": {
          "base_uri": "https://localhost:8080/"
        },
        "id": "p7LoMxlH7rSW",
        "outputId": "010d9e40-48cc-4f24-cd8c-8f6c286e1026"
      },
      "execution_count": 4,
      "outputs": [
        {
          "output_type": "stream",
          "name": "stdout",
          "text": [
            "Enter a number (0 to stop): 2\n",
            "You entered: 2\n",
            "Enter a number (0 to stop): 0\n",
            "You entered: 0\n"
          ]
        }
      ]
    },
    {
      "cell_type": "markdown",
      "source": [
        "Q2. Write a Python program to print the sum and product of the first 10 natural numbers using for and while loop."
      ],
      "metadata": {
        "id": "YzvOxgvz8B7b"
      }
    },
    {
      "cell_type": "code",
      "source": [
        "# Sum and product of first 10 natural numbers using for loop\n",
        "sum_result = 0\n",
        "product_result = 1\n",
        "\n",
        "for i in range(1, 11):\n",
        "    sum_result += i\n",
        "    product_result *= i\n",
        "\n",
        "print(\"Sum of first 10 natural numbers:\", sum_result)\n",
        "print(\"Product of first 10 natural numbers:\", product_result)"
      ],
      "metadata": {
        "colab": {
          "base_uri": "https://localhost:8080/"
        },
        "id": "Uscp6S8q8Jb5",
        "outputId": "91d8c5fe-1adb-4652-b463-1421787831d9"
      },
      "execution_count": 5,
      "outputs": [
        {
          "output_type": "stream",
          "name": "stdout",
          "text": [
            "Sum of first 10 natural numbers: 55\n",
            "Product of first 10 natural numbers: 3628800\n"
          ]
        }
      ]
    },
    {
      "cell_type": "code",
      "source": [
        "# Sum and product of first 10 natural numbers using while loop\n",
        "sum_result = 0\n",
        "product_result = 1\n",
        "i = 1\n",
        "\n",
        "while i <= 10:\n",
        "    sum_result += i\n",
        "    product_result *= i\n",
        "    i += 1\n",
        "\n",
        "print(\"Sum of first 10 natural numbers:\", sum_result)\n",
        "print(\"Product of first 10 natural numbers:\", product_result)"
      ],
      "metadata": {
        "colab": {
          "base_uri": "https://localhost:8080/"
        },
        "id": "qFPMuIpN8KYz",
        "outputId": "f5025951-dfb3-42f2-e186-ee5af2b40f22"
      },
      "execution_count": 6,
      "outputs": [
        {
          "output_type": "stream",
          "name": "stdout",
          "text": [
            "Sum of first 10 natural numbers: 55\n",
            "Product of first 10 natural numbers: 3628800\n"
          ]
        }
      ]
    },
    {
      "cell_type": "markdown",
      "source": [
        "Q3. Create a Python program to compute the electricity bill for a household."
      ],
      "metadata": {
        "id": "D38Qdsr48Ops"
      }
    },
    {
      "cell_type": "code",
      "source": [
        "# Electricity bill calculation\n",
        "units = int(input(\"Enter the units of electricity consumed: \"))\n",
        "\n",
        "if units <= 100:\n",
        "    bill = units * 4.5\n",
        "elif units <= 200:\n",
        "    bill = 100 * 4.5 + (units - 100) * 6\n",
        "elif units <= 300:\n",
        "    bill = 100 * 4.5 + 100 * 6 + (units - 200) * 10\n",
        "else:\n",
        "    bill = 100 * 4.5 + 100 * 6 + 100 * 10 + (units - 300) * 20\n",
        "\n",
        "print(\"Total electricity bill:\", bill)"
      ],
      "metadata": {
        "colab": {
          "base_uri": "https://localhost:8080/"
        },
        "id": "CbST47qu8Rf2",
        "outputId": "47306e4b-982d-4deb-fab7-31cc2e45a822"
      },
      "execution_count": 7,
      "outputs": [
        {
          "output_type": "stream",
          "name": "stdout",
          "text": [
            "Enter the units of electricity consumed: 310\n",
            "Total electricity bill: 2250.0\n"
          ]
        }
      ]
    },
    {
      "cell_type": "markdown",
      "source": [
        "Q4. Create a list of numbers from 1 to 100. Use for loop and while loop to calculate the cube of each number and if the cube of that number is divisible by 4 or 5, append that number to a list and print that list."
      ],
      "metadata": {
        "id": "lP4rRBDv8iBS"
      }
    },
    {
      "cell_type": "code",
      "source": [
        "# Using for loop\n",
        "result_list = []\n",
        "\n",
        "for num in range(1, 101):\n",
        "    cube = num ** 3\n",
        "    if cube % 4 == 0 or cube % 5 == 0:\n",
        "        result_list.append(num)\n",
        "\n",
        "print(\"Numbers whose cubes are divisible by 4 or 5:\", result_list)"
      ],
      "metadata": {
        "colab": {
          "base_uri": "https://localhost:8080/"
        },
        "id": "fiwUSPd88kYs",
        "outputId": "56f58100-6910-4f3d-d910-324922c18558"
      },
      "execution_count": 8,
      "outputs": [
        {
          "output_type": "stream",
          "name": "stdout",
          "text": [
            "Numbers whose cubes are divisible by 4 or 5: [2, 4, 5, 6, 8, 10, 12, 14, 15, 16, 18, 20, 22, 24, 25, 26, 28, 30, 32, 34, 35, 36, 38, 40, 42, 44, 45, 46, 48, 50, 52, 54, 55, 56, 58, 60, 62, 64, 65, 66, 68, 70, 72, 74, 75, 76, 78, 80, 82, 84, 85, 86, 88, 90, 92, 94, 95, 96, 98, 100]\n"
          ]
        }
      ]
    },
    {
      "cell_type": "code",
      "source": [
        "# Using while loop\n",
        "result_list = []\n",
        "num = 1\n",
        "\n",
        "while num <= 100:\n",
        "    cube = num ** 3\n",
        "    if cube % 4 == 0 or cube % 5 == 0:\n",
        "        result_list.append(num)\n",
        "    num += 1\n",
        "\n",
        "print(\"Numbers whose cubes are divisible by 4 or 5:\", result_list)"
      ],
      "metadata": {
        "colab": {
          "base_uri": "https://localhost:8080/"
        },
        "id": "FYR5vbq48o0T",
        "outputId": "1346ef7c-5c2c-4bb6-901d-982261858493"
      },
      "execution_count": 9,
      "outputs": [
        {
          "output_type": "stream",
          "name": "stdout",
          "text": [
            "Numbers whose cubes are divisible by 4 or 5: [2, 4, 5, 6, 8, 10, 12, 14, 15, 16, 18, 20, 22, 24, 25, 26, 28, 30, 32, 34, 35, 36, 38, 40, 42, 44, 45, 46, 48, 50, 52, 54, 55, 56, 58, 60, 62, 64, 65, 66, 68, 70, 72, 74, 75, 76, 78, 80, 82, 84, 85, 86, 88, 90, 92, 94, 95, 96, 98, 100]\n"
          ]
        }
      ]
    },
    {
      "cell_type": "markdown",
      "source": [
        "Q5. Write a program to filter and count vowels in the given string."
      ],
      "metadata": {
        "id": "Ji_PKGTf8vAp"
      }
    },
    {
      "cell_type": "code",
      "source": [
        "# Count vowels in the string\n",
        "string = \"I want to become a data scientist\"\n",
        "vowels = \"aeiouAEIOU\"\n",
        "vowel_count = 0\n",
        "\n",
        "for char in string:\n",
        "    if char in vowels:\n",
        "        vowel_count += 1\n",
        "\n",
        "print(\"Total vowels in the string:\", vowel_count)"
      ],
      "metadata": {
        "colab": {
          "base_uri": "https://localhost:8080/"
        },
        "id": "B2Gjw7yM8vx3",
        "outputId": "26bb9dce-1dcc-4140-dba1-8ba41a0c64f1"
      },
      "execution_count": 10,
      "outputs": [
        {
          "output_type": "stream",
          "name": "stdout",
          "text": [
            "Total vowels in the string: 12\n"
          ]
        }
      ]
    }
  ]
}